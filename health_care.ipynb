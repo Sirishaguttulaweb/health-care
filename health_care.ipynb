{
  "cells": [
    {
      "cell_type": "code",
      "execution_count": 3,
      "id": "c1db36d5",
      "metadata": {
        "id": "c1db36d5"
      },
      "outputs": [],
      "source": [
        "import pandas as pd\n",
        "import numpy as np\n",
        "from sklearn.impute import SimpleImputer\n"
      ]
    },
    {
      "cell_type": "code",
      "execution_count": 4,
      "id": "8cca6d83",
      "metadata": {
        "colab": {
          "base_uri": "https://localhost:8080/"
        },
        "id": "8cca6d83",
        "outputId": "fc67db2b-f81d-4fe7-c9a4-4ddad3f730c4"
      },
      "outputs": [
        {
          "output_type": "stream",
          "name": "stdout",
          "text": [
            "Mounted at /content/drive\n"
          ]
        }
      ],
      "source": [
        "from google.colab import drive\n",
        "\n",
        "# Mount Google Drive to access files\n",
        "drive.mount('/content/drive')\n"
      ]
    },
    {
      "cell_type": "code",
      "source": [
        "import pandas as pd\n",
        "\n",
        "# Path to your file in Google Drive\n",
        "file_path = '/content/drive/My Drive/healthcare.csv'\n"
      ],
      "metadata": {
        "id": "WOs4mx1xdn8I"
      },
      "id": "WOs4mx1xdn8I",
      "execution_count": 5,
      "outputs": []
    },
    {
      "cell_type": "code",
      "source": [
        "# Load the CSV file into a DataFrame\n",
        "data = pd.read_csv(file_path)\n",
        "\n",
        "# Display the first few rows of the dataframe\n",
        "print(data.head())"
      ],
      "metadata": {
        "colab": {
          "base_uri": "https://localhost:8080/"
        },
        "id": "cUZmtN2hd1dk",
        "outputId": "3e7738c0-149d-4137-f276-f2a20b0b8939"
      },
      "id": "cUZmtN2hd1dk",
      "execution_count": 6,
      "outputs": [
        {
          "output_type": "stream",
          "name": "stdout",
          "text": [
            "      PatientId  AppointmentID Gender ScheduledDay AppointmentDay  Age  \\\n",
            "0  2.987250e+13        5642903      F   2016-04-29     2016-04-29   62   \n",
            "1  5.589978e+14        5642503      M   2016-04-29     2016-04-29   56   \n",
            "2  4.262962e+12        5642549      F   2016-04-29     2016-04-29   62   \n",
            "3  8.679512e+11        5642828      F   2016-04-29     2016-04-29    8   \n",
            "4  8.841186e+12        5642494      F   2016-04-29     2016-04-29   56   \n",
            "\n",
            "       Neighbourhood  Scholarship  Hipertension  Diabetes  Alcoholism  \\\n",
            "0    JARDIM DA PENHA        False          True     False       False   \n",
            "1    JARDIM DA PENHA        False         False     False       False   \n",
            "2      MATA DA PRAIA        False         False     False       False   \n",
            "3  PONTAL DE CAMBURI        False         False     False       False   \n",
            "4    JARDIM DA PENHA        False          True      True       False   \n",
            "\n",
            "   Handcap  SMS_received  Showed_up  Date.diff  \n",
            "0    False         False       True          0  \n",
            "1    False         False       True          0  \n",
            "2    False         False       True          0  \n",
            "3    False         False       True          0  \n",
            "4    False         False       True          0  \n"
          ]
        }
      ]
    },
    {
      "cell_type": "code",
      "execution_count": 7,
      "id": "e7b1315c",
      "metadata": {
        "colab": {
          "base_uri": "https://localhost:8080/"
        },
        "id": "e7b1315c",
        "outputId": "88c62b94-0f45-49f8-9fac-1d9c341dedbc"
      },
      "outputs": [
        {
          "output_type": "execute_result",
          "data": {
            "text/plain": [
              "Index(['PatientId', 'AppointmentID', 'Gender', 'ScheduledDay',\n",
              "       'AppointmentDay', 'Age', 'Neighbourhood', 'Scholarship', 'Hipertension',\n",
              "       'Diabetes', 'Alcoholism', 'Handcap', 'SMS_received', 'Showed_up',\n",
              "       'Date.diff'],\n",
              "      dtype='object')"
            ]
          },
          "metadata": {},
          "execution_count": 7
        }
      ],
      "source": [
        "data.columns"
      ]
    },
    {
      "cell_type": "code",
      "execution_count": 8,
      "id": "e96d47f8",
      "metadata": {
        "colab": {
          "base_uri": "https://localhost:8080/"
        },
        "id": "e96d47f8",
        "outputId": "d5e8e601-5ab2-4151-a07d-78f362ace252"
      },
      "outputs": [
        {
          "output_type": "stream",
          "name": "stdout",
          "text": [
            "      PatientId  AppointmentID Gender ScheduledDay AppointmentDay  Age  \\\n",
            "0  2.987250e+13        5642903      F   2016-04-29     2016-04-29   62   \n",
            "1  5.589978e+14        5642503      M   2016-04-29     2016-04-29   56   \n",
            "2  4.262962e+12        5642549      F   2016-04-29     2016-04-29   62   \n",
            "3  8.679512e+11        5642828      F   2016-04-29     2016-04-29    8   \n",
            "4  8.841186e+12        5642494      F   2016-04-29     2016-04-29   56   \n",
            "\n",
            "       Neighbourhood  Scholarship  Hipertension  Diabetes  Alcoholism  \\\n",
            "0    JARDIM DA PENHA        False          True     False       False   \n",
            "1    JARDIM DA PENHA        False         False     False       False   \n",
            "2      MATA DA PRAIA        False         False     False       False   \n",
            "3  PONTAL DE CAMBURI        False         False     False       False   \n",
            "4    JARDIM DA PENHA        False          True      True       False   \n",
            "\n",
            "   Handcap  SMS_received  Showed_up  Date.diff  \n",
            "0    False         False       True          0  \n",
            "1    False         False       True          0  \n",
            "2    False         False       True          0  \n",
            "3    False         False       True          0  \n",
            "4    False         False       True          0  \n"
          ]
        }
      ],
      "source": [
        "print(data.head())"
      ]
    },
    {
      "cell_type": "code",
      "execution_count": 9,
      "id": "e0bbe332",
      "metadata": {
        "colab": {
          "base_uri": "https://localhost:8080/"
        },
        "id": "e0bbe332",
        "outputId": "292a91a2-9486-42f7-9a5e-da8e10ec2473"
      },
      "outputs": [
        {
          "output_type": "stream",
          "name": "stdout",
          "text": [
            "<class 'pandas.core.frame.DataFrame'>\n",
            "RangeIndex: 106987 entries, 0 to 106986\n",
            "Data columns (total 15 columns):\n",
            " #   Column          Non-Null Count   Dtype  \n",
            "---  ------          --------------   -----  \n",
            " 0   PatientId       106987 non-null  float64\n",
            " 1   AppointmentID   106987 non-null  int64  \n",
            " 2   Gender          106987 non-null  object \n",
            " 3   ScheduledDay    106987 non-null  object \n",
            " 4   AppointmentDay  106987 non-null  object \n",
            " 5   Age             106987 non-null  int64  \n",
            " 6   Neighbourhood   106987 non-null  object \n",
            " 7   Scholarship     106987 non-null  bool   \n",
            " 8   Hipertension    106987 non-null  bool   \n",
            " 9   Diabetes        106987 non-null  bool   \n",
            " 10  Alcoholism      106987 non-null  bool   \n",
            " 11  Handcap         106987 non-null  bool   \n",
            " 12  SMS_received    106987 non-null  bool   \n",
            " 13  Showed_up       106987 non-null  bool   \n",
            " 14  Date.diff       106987 non-null  int64  \n",
            "dtypes: bool(7), float64(1), int64(3), object(4)\n",
            "memory usage: 7.2+ MB\n",
            "None\n"
          ]
        }
      ],
      "source": [
        "print(data.info())"
      ]
    },
    {
      "cell_type": "code",
      "source": [
        "\n",
        "# Step 4: Rename columns for consistency\n",
        "data.rename(columns={'Hipertension': 'Hypertension', 'Handcap': 'Handicap'}, inplace=True)\n"
      ],
      "metadata": {
        "id": "6HuoA1-4hoW9"
      },
      "id": "6HuoA1-4hoW9",
      "execution_count": 10,
      "outputs": []
    },
    {
      "cell_type": "code",
      "execution_count": 11,
      "id": "e2fd7771",
      "metadata": {
        "colab": {
          "base_uri": "https://localhost:8080/"
        },
        "id": "e2fd7771",
        "outputId": "7590a0b9-7ece-4256-adf8-4a3af00001d0"
      },
      "outputs": [
        {
          "output_type": "stream",
          "name": "stdout",
          "text": [
            "PatientId         0\n",
            "AppointmentID     0\n",
            "Gender            0\n",
            "ScheduledDay      0\n",
            "AppointmentDay    0\n",
            "Age               0\n",
            "Neighbourhood     0\n",
            "Scholarship       0\n",
            "Hypertension      0\n",
            "Diabetes          0\n",
            "Alcoholism        0\n",
            "Handicap          0\n",
            "SMS_received      0\n",
            "Showed_up         0\n",
            "Date.diff         0\n",
            "dtype: int64\n"
          ]
        }
      ],
      "source": [
        "print(data.isnull().sum())"
      ]
    },
    {
      "cell_type": "code",
      "execution_count": 12,
      "id": "eecae2b8",
      "metadata": {
        "colab": {
          "base_uri": "https://localhost:8080/"
        },
        "id": "eecae2b8",
        "outputId": "734d0ca4-82da-442e-c482-c0e7db639d74"
      },
      "outputs": [
        {
          "output_type": "stream",
          "name": "stdout",
          "text": [
            "          PatientId  AppointmentID            Age      Date.diff\n",
            "count  1.069870e+05   1.069870e+05  106987.000000  106987.000000\n",
            "mean   1.472814e+14   5.675434e+06      38.316085      10.166721\n",
            "std    2.558267e+14   7.133274e+04      22.466214      15.263508\n",
            "min    3.921784e+04   5.030230e+06       1.000000      -6.000000\n",
            "25%    4.173523e+12   5.640490e+06      19.000000       0.000000\n",
            "50%    3.172463e+13   5.680744e+06      38.000000       4.000000\n",
            "75%    9.433600e+13   5.725634e+06      56.000000      14.000000\n",
            "max    9.999816e+14   5.790484e+06     115.000000     179.000000\n"
          ]
        }
      ],
      "source": [
        "print(data.describe())"
      ]
    },
    {
      "cell_type": "code",
      "execution_count": 12,
      "id": "4bca3202",
      "metadata": {
        "id": "4bca3202"
      },
      "outputs": [],
      "source": []
    },
    {
      "cell_type": "code",
      "execution_count": 13,
      "id": "46663dd2",
      "metadata": {
        "id": "46663dd2"
      },
      "outputs": [],
      "source": [
        "# 1. Identify numerical and categorical columns\n",
        "num_cols = data.select_dtypes(include=['float64', 'int64']).columns\n",
        "cat_cols = data.select_dtypes(include=['object']).columns\n"
      ]
    },
    {
      "cell_type": "code",
      "source": [
        "\n",
        "data['ScheduledDay'] = pd.to_datetime(data['ScheduledDay'])\n",
        "data['AppointmentDay'] = pd.to_datetime(data['AppointmentDay'])"
      ],
      "metadata": {
        "id": "ar6_8y-JfL6f"
      },
      "id": "ar6_8y-JfL6f",
      "execution_count": 14,
      "outputs": []
    },
    {
      "cell_type": "code",
      "execution_count": 15,
      "id": "0ead0878",
      "metadata": {
        "colab": {
          "base_uri": "https://localhost:8080/"
        },
        "id": "0ead0878",
        "outputId": "04ce07ed-e35f-454b-93fb-6958c8ee6218"
      },
      "outputs": [
        {
          "output_type": "stream",
          "name": "stdout",
          "text": [
            "Index(['Gender', 'ScheduledDay', 'AppointmentDay', 'Neighbourhood'], dtype='object')\n"
          ]
        }
      ],
      "source": [
        "print(cat_cols)"
      ]
    },
    {
      "cell_type": "code",
      "execution_count": 16,
      "id": "29e404cb",
      "metadata": {
        "colab": {
          "base_uri": "https://localhost:8080/"
        },
        "id": "29e404cb",
        "outputId": "aceb0aac-d871-4a64-e845-0985313049a6"
      },
      "outputs": [
        {
          "output_type": "stream",
          "name": "stdout",
          "text": [
            "<class 'pandas.core.frame.DataFrame'>\n",
            "RangeIndex: 106987 entries, 0 to 106986\n",
            "Data columns (total 15 columns):\n",
            " #   Column          Non-Null Count   Dtype         \n",
            "---  ------          --------------   -----         \n",
            " 0   PatientId       106987 non-null  float64       \n",
            " 1   AppointmentID   106987 non-null  int64         \n",
            " 2   Gender          106987 non-null  object        \n",
            " 3   ScheduledDay    106987 non-null  datetime64[ns]\n",
            " 4   AppointmentDay  106987 non-null  datetime64[ns]\n",
            " 5   Age             106987 non-null  int64         \n",
            " 6   Neighbourhood   106987 non-null  object        \n",
            " 7   Scholarship     106987 non-null  bool          \n",
            " 8   Hypertension    106987 non-null  bool          \n",
            " 9   Diabetes        106987 non-null  bool          \n",
            " 10  Alcoholism      106987 non-null  bool          \n",
            " 11  Handicap        106987 non-null  bool          \n",
            " 12  SMS_received    106987 non-null  bool          \n",
            " 13  Showed_up       106987 non-null  bool          \n",
            " 14  Date.diff       106987 non-null  int64         \n",
            "dtypes: bool(7), datetime64[ns](2), float64(1), int64(3), object(2)\n",
            "memory usage: 7.2+ MB\n"
          ]
        }
      ],
      "source": [
        "data.info()"
      ]
    },
    {
      "cell_type": "code",
      "execution_count": 17,
      "id": "bd2c11cd",
      "metadata": {
        "colab": {
          "base_uri": "https://localhost:8080/"
        },
        "id": "bd2c11cd",
        "outputId": "d06ca8c6-ce06-497c-b1b6-4e6590e97cb7"
      },
      "outputs": [
        {
          "output_type": "stream",
          "name": "stdout",
          "text": [
            "PatientId         0\n",
            "AppointmentID     0\n",
            "Gender            0\n",
            "ScheduledDay      0\n",
            "AppointmentDay    0\n",
            "Age               0\n",
            "Neighbourhood     0\n",
            "Scholarship       0\n",
            "Hypertension      0\n",
            "Diabetes          0\n",
            "Alcoholism        0\n",
            "Handicap          0\n",
            "SMS_received      0\n",
            "Showed_up         0\n",
            "Date.diff         0\n",
            "dtype: int64\n"
          ]
        }
      ],
      "source": [
        "print(data.isnull().sum())"
      ]
    },
    {
      "cell_type": "code",
      "execution_count": 18,
      "id": "12c3af68",
      "metadata": {
        "id": "12c3af68"
      },
      "outputs": [],
      "source": [
        "# One-hot encoding for categorical columns 'Gender' and 'Neighbourhood'\n",
        "data = pd.get_dummies(data, columns=['Gender', 'Neighbourhood'], drop_first=True)"
      ]
    },
    {
      "cell_type": "code",
      "execution_count": 19,
      "id": "38e7ecfa",
      "metadata": {
        "colab": {
          "base_uri": "https://localhost:8080/"
        },
        "id": "38e7ecfa",
        "outputId": "ab101db0-01af-4f83-b0c8-2a517e4db6aa"
      },
      "outputs": [
        {
          "output_type": "stream",
          "name": "stdout",
          "text": [
            "           PatientId  AppointmentID ScheduledDay AppointmentDay  Age  \\\n",
            "0       2.987250e+13        5642903   2016-04-29     2016-04-29   62   \n",
            "1       5.589978e+14        5642503   2016-04-29     2016-04-29   56   \n",
            "2       4.262962e+12        5642549   2016-04-29     2016-04-29   62   \n",
            "3       8.679512e+11        5642828   2016-04-29     2016-04-29    8   \n",
            "4       8.841186e+12        5642494   2016-04-29     2016-04-29   56   \n",
            "...              ...            ...          ...            ...  ...   \n",
            "106982  2.572134e+12        5651768   2016-05-03     2016-06-07   56   \n",
            "106983  3.596266e+12        5650093   2016-05-03     2016-06-07   51   \n",
            "106984  1.557663e+13        5630692   2016-04-27     2016-06-07   21   \n",
            "106985  9.213493e+13        5630323   2016-04-27     2016-06-07   38   \n",
            "106986  3.775115e+14        5629448   2016-04-27     2016-06-07   54   \n",
            "\n",
            "        Scholarship  Hypertension  Diabetes  Alcoholism  Handicap  ...  \\\n",
            "0             False          True     False       False     False  ...   \n",
            "1             False         False     False       False     False  ...   \n",
            "2             False         False     False       False     False  ...   \n",
            "3             False         False     False       False     False  ...   \n",
            "4             False          True      True       False     False  ...   \n",
            "...             ...           ...       ...         ...       ...  ...   \n",
            "106982        False         False     False       False     False  ...   \n",
            "106983        False         False     False       False     False  ...   \n",
            "106984        False         False     False       False     False  ...   \n",
            "106985        False         False     False       False     False  ...   \n",
            "106986        False         False     False       False     False  ...   \n",
            "\n",
            "        Neighbourhood_SANTOS REIS  Neighbourhood_SEGURANÇA DO LAR  \\\n",
            "0                           False                           False   \n",
            "1                           False                           False   \n",
            "2                           False                           False   \n",
            "3                           False                           False   \n",
            "4                           False                           False   \n",
            "...                           ...                             ...   \n",
            "106982                      False                           False   \n",
            "106983                      False                           False   \n",
            "106984                      False                           False   \n",
            "106985                      False                           False   \n",
            "106986                      False                           False   \n",
            "\n",
            "        Neighbourhood_SOLON BORGES  Neighbourhood_SÃO BENEDITO  \\\n",
            "0                            False                       False   \n",
            "1                            False                       False   \n",
            "2                            False                       False   \n",
            "3                            False                       False   \n",
            "4                            False                       False   \n",
            "...                            ...                         ...   \n",
            "106982                       False                       False   \n",
            "106983                       False                       False   \n",
            "106984                       False                       False   \n",
            "106985                       False                       False   \n",
            "106986                       False                       False   \n",
            "\n",
            "        Neighbourhood_SÃO CRISTÓVÃO  Neighbourhood_SÃO JOSÉ  \\\n",
            "0                             False                   False   \n",
            "1                             False                   False   \n",
            "2                             False                   False   \n",
            "3                             False                   False   \n",
            "4                             False                   False   \n",
            "...                             ...                     ...   \n",
            "106982                        False                   False   \n",
            "106983                        False                   False   \n",
            "106984                        False                   False   \n",
            "106985                        False                   False   \n",
            "106986                        False                   False   \n",
            "\n",
            "        Neighbourhood_SÃO PEDRO  Neighbourhood_TABUAZEIRO  \\\n",
            "0                         False                     False   \n",
            "1                         False                     False   \n",
            "2                         False                     False   \n",
            "3                         False                     False   \n",
            "4                         False                     False   \n",
            "...                         ...                       ...   \n",
            "106982                    False                     False   \n",
            "106983                    False                     False   \n",
            "106984                    False                     False   \n",
            "106985                    False                     False   \n",
            "106986                    False                     False   \n",
            "\n",
            "        Neighbourhood_UNIVERSITÁRIO  Neighbourhood_VILA RUBIM  \n",
            "0                             False                     False  \n",
            "1                             False                     False  \n",
            "2                             False                     False  \n",
            "3                             False                     False  \n",
            "4                             False                     False  \n",
            "...                             ...                       ...  \n",
            "106982                        False                     False  \n",
            "106983                        False                     False  \n",
            "106984                        False                     False  \n",
            "106985                        False                     False  \n",
            "106986                        False                     False  \n",
            "\n",
            "[106987 rows x 94 columns]\n"
          ]
        }
      ],
      "source": [
        "print(data)"
      ]
    },
    {
      "cell_type": "code",
      "execution_count": 20,
      "id": "8745bc14",
      "metadata": {
        "id": "8745bc14"
      },
      "outputs": [],
      "source": [
        "# Drop unnecessary ID columns\n",
        "data.drop(columns=['PatientId', 'AppointmentID'], inplace=True)"
      ]
    },
    {
      "cell_type": "code",
      "execution_count": 21,
      "id": "f9efd7e8",
      "metadata": {
        "colab": {
          "base_uri": "https://localhost:8080/"
        },
        "id": "f9efd7e8",
        "outputId": "14b1e0b4-caa2-48a2-f2fa-c32f149f4d08"
      },
      "outputs": [
        {
          "output_type": "stream",
          "name": "stdout",
          "text": [
            "ScheduledDay                   0\n",
            "AppointmentDay                 0\n",
            "Age                            0\n",
            "Scholarship                    0\n",
            "Hypertension                   0\n",
            "                              ..\n",
            "Neighbourhood_SÃO JOSÉ         0\n",
            "Neighbourhood_SÃO PEDRO        0\n",
            "Neighbourhood_TABUAZEIRO       0\n",
            "Neighbourhood_UNIVERSITÁRIO    0\n",
            "Neighbourhood_VILA RUBIM       0\n",
            "Length: 92, dtype: int64\n"
          ]
        }
      ],
      "source": [
        "print(data.isnull().sum())"
      ]
    },
    {
      "cell_type": "code",
      "execution_count": 22,
      "id": "30a997d0",
      "metadata": {
        "id": "30a997d0"
      },
      "outputs": [],
      "source": [
        "# Extract day of the week for appointments and scheduled day\n",
        "data['ScheduledDay_DayOfWeek'] = data['ScheduledDay'].dt.dayofweek\n",
        "data['AppointmentDay_DayOfWeek'] = data['AppointmentDay'].dt.dayofweek\n"
      ]
    },
    {
      "cell_type": "code",
      "execution_count": 23,
      "id": "a3306604",
      "metadata": {
        "colab": {
          "base_uri": "https://localhost:8080/"
        },
        "id": "a3306604",
        "outputId": "55a7cf35-3a55-449a-e4ad-fe8734eef16f"
      },
      "outputs": [
        {
          "output_type": "stream",
          "name": "stdout",
          "text": [
            "0         4\n",
            "1         4\n",
            "2         4\n",
            "3         4\n",
            "4         4\n",
            "         ..\n",
            "106982    1\n",
            "106983    1\n",
            "106984    1\n",
            "106985    1\n",
            "106986    1\n",
            "Name: AppointmentDay_DayOfWeek, Length: 106987, dtype: int32\n"
          ]
        }
      ],
      "source": [
        "print(data['AppointmentDay_DayOfWeek'])"
      ]
    },
    {
      "cell_type": "code",
      "source": [
        "print(data['ScheduledDay_DayOfWeek'] )"
      ],
      "metadata": {
        "colab": {
          "base_uri": "https://localhost:8080/"
        },
        "id": "lDjzcMIFfprI",
        "outputId": "76ff3565-11e2-4f5c-ff8c-56e7400a98fa"
      },
      "id": "lDjzcMIFfprI",
      "execution_count": 24,
      "outputs": [
        {
          "output_type": "stream",
          "name": "stdout",
          "text": [
            "0         4\n",
            "1         4\n",
            "2         4\n",
            "3         4\n",
            "4         4\n",
            "         ..\n",
            "106982    1\n",
            "106983    1\n",
            "106984    2\n",
            "106985    2\n",
            "106986    2\n",
            "Name: ScheduledDay_DayOfWeek, Length: 106987, dtype: int32\n"
          ]
        }
      ]
    },
    {
      "cell_type": "code",
      "source": [
        "print(data.columns)"
      ],
      "metadata": {
        "colab": {
          "base_uri": "https://localhost:8080/"
        },
        "id": "lhx61t3xfwaK",
        "outputId": "2ab58723-bf72-4da6-d971-d53d1f8e59f8"
      },
      "id": "lhx61t3xfwaK",
      "execution_count": 25,
      "outputs": [
        {
          "output_type": "stream",
          "name": "stdout",
          "text": [
            "Index(['ScheduledDay', 'AppointmentDay', 'Age', 'Scholarship', 'Hypertension',\n",
            "       'Diabetes', 'Alcoholism', 'Handicap', 'SMS_received', 'Showed_up',\n",
            "       'Date.diff', 'Gender_M', 'Neighbourhood_ANDORINHAS',\n",
            "       'Neighbourhood_ANTÔNIO HONÓRIO', 'Neighbourhood_ARIOVALDO FAVALESSA',\n",
            "       'Neighbourhood_BARRO VERMELHO', 'Neighbourhood_BELA VISTA',\n",
            "       'Neighbourhood_BENTO FERREIRA', 'Neighbourhood_BOA VISTA',\n",
            "       'Neighbourhood_BONFIM', 'Neighbourhood_CARATOÍRA',\n",
            "       'Neighbourhood_CENTRO', 'Neighbourhood_COMDUSA',\n",
            "       'Neighbourhood_CONQUISTA', 'Neighbourhood_CONSOLAÇÃO',\n",
            "       'Neighbourhood_CRUZAMENTO', 'Neighbourhood_DA PENHA',\n",
            "       'Neighbourhood_DE LOURDES', 'Neighbourhood_DO CABRAL',\n",
            "       'Neighbourhood_DO MOSCOSO', 'Neighbourhood_DO QUADRO',\n",
            "       'Neighbourhood_ENSEADA DO SUÁ', 'Neighbourhood_ESTRELINHA',\n",
            "       'Neighbourhood_FONTE GRANDE', 'Neighbourhood_FORTE SÃO JOÃO',\n",
            "       'Neighbourhood_FRADINHOS', 'Neighbourhood_GOIABEIRAS',\n",
            "       'Neighbourhood_GRANDE VITÓRIA', 'Neighbourhood_GURIGICA',\n",
            "       'Neighbourhood_HORTO', 'Neighbourhood_ILHA DAS CAIEIRAS',\n",
            "       'Neighbourhood_ILHA DE SANTA MARIA', 'Neighbourhood_ILHA DO BOI',\n",
            "       'Neighbourhood_ILHA DO FRADE', 'Neighbourhood_ILHA DO PRÍNCIPE',\n",
            "       'Neighbourhood_ILHAS OCEÂNICAS DE TRINDADE', 'Neighbourhood_INHANGUETÁ',\n",
            "       'Neighbourhood_ITARARÉ', 'Neighbourhood_JABOUR',\n",
            "       'Neighbourhood_JARDIM CAMBURI', 'Neighbourhood_JARDIM DA PENHA',\n",
            "       'Neighbourhood_JESUS DE NAZARETH', 'Neighbourhood_JOANA D´ARC',\n",
            "       'Neighbourhood_JUCUTUQUARA', 'Neighbourhood_MARIA ORTIZ',\n",
            "       'Neighbourhood_MARUÍPE', 'Neighbourhood_MATA DA PRAIA',\n",
            "       'Neighbourhood_MONTE BELO', 'Neighbourhood_MORADA DE CAMBURI',\n",
            "       'Neighbourhood_MÁRIO CYPRESTE', 'Neighbourhood_NAZARETH',\n",
            "       'Neighbourhood_NOVA PALESTINA', 'Neighbourhood_PARQUE INDUSTRIAL',\n",
            "       'Neighbourhood_PARQUE MOSCOSO', 'Neighbourhood_PIEDADE',\n",
            "       'Neighbourhood_PONTAL DE CAMBURI', 'Neighbourhood_PRAIA DO CANTO',\n",
            "       'Neighbourhood_PRAIA DO SUÁ', 'Neighbourhood_REDENÇÃO',\n",
            "       'Neighbourhood_REPÚBLICA', 'Neighbourhood_RESISTÊNCIA',\n",
            "       'Neighbourhood_ROMÃO', 'Neighbourhood_SANTA CECÍLIA',\n",
            "       'Neighbourhood_SANTA CLARA', 'Neighbourhood_SANTA HELENA',\n",
            "       'Neighbourhood_SANTA LUÍZA', 'Neighbourhood_SANTA LÚCIA',\n",
            "       'Neighbourhood_SANTA MARTHA', 'Neighbourhood_SANTA TEREZA',\n",
            "       'Neighbourhood_SANTO ANDRÉ', 'Neighbourhood_SANTO ANTÔNIO',\n",
            "       'Neighbourhood_SANTOS DUMONT', 'Neighbourhood_SANTOS REIS',\n",
            "       'Neighbourhood_SEGURANÇA DO LAR', 'Neighbourhood_SOLON BORGES',\n",
            "       'Neighbourhood_SÃO BENEDITO', 'Neighbourhood_SÃO CRISTÓVÃO',\n",
            "       'Neighbourhood_SÃO JOSÉ', 'Neighbourhood_SÃO PEDRO',\n",
            "       'Neighbourhood_TABUAZEIRO', 'Neighbourhood_UNIVERSITÁRIO',\n",
            "       'Neighbourhood_VILA RUBIM', 'ScheduledDay_DayOfWeek',\n",
            "       'AppointmentDay_DayOfWeek'],\n",
            "      dtype='object')\n"
          ]
        }
      ]
    },
    {
      "cell_type": "code",
      "source": [
        "import matplotlib.pyplot as plt\n",
        "import seaborn as sns"
      ],
      "metadata": {
        "id": "1sj35pIwf2dF"
      },
      "id": "1sj35pIwf2dF",
      "execution_count": 26,
      "outputs": []
    },
    {
      "cell_type": "code",
      "source": [
        "# Distribution of Age\n",
        "plt.figure(figsize=(8, 5))\n",
        "sns.histplot(data['Age'], bins=10, kde=True)\n",
        "plt.title(\"Age Distribution\")\n",
        "plt.xlabel(\"Age\")\n",
        "plt.ylabel(\"Frequency\")\n",
        "plt.show()"
      ],
      "metadata": {
        "colab": {
          "base_uri": "https://localhost:8080/",
          "height": 487
        },
        "id": "ULj4fCguf3-9",
        "outputId": "d8b6ce57-20e5-48c9-c23d-f537ff3592ac"
      },
      "id": "ULj4fCguf3-9",
      "execution_count": 27,
      "outputs": [
        {
          "output_type": "display_data",
          "data": {
            "text/plain": [
              "<Figure size 800x500 with 1 Axes>"
            ],
            "image/png": "[encoded data removed]"
          },
          "metadata": {}
        }
      ]
    },
    {
      "cell_type": "code",
      "source": [
        "# Appointment No-Show Analysis\n",
        "no_show_counts = data['Showed_up'].value_counts()\n",
        "plt.figure(figsize=(6, 4))\n",
        "sns.barplot(x=no_show_counts.index, y=no_show_counts.values, palette=\"viridis\")\n",
        "plt.xticks([0, 1], ['No-show', 'Showed'])\n",
        "plt.title(\"Appointment Attendance\")\n",
        "plt.ylabel(\"Count\")\n",
        "plt.show()"
      ],
      "metadata": {
        "colab": {
          "base_uri": "https://localhost:8080/",
          "height": 517
        },
        "id": "vg3Cj7_4gA7g",
        "outputId": "8a2ffa51-8ff3-44f9-ce87-7420691ccf1a"
      },
      "id": "vg3Cj7_4gA7g",
      "execution_count": 28,
      "outputs": [
        {
          "output_type": "stream",
          "name": "stderr",
          "text": [
            "<ipython-input-28-e0644419de07>:4: FutureWarning: \n",
            "\n",
            "Passing `palette` without assigning `hue` is deprecated and will be removed in v0.14.0. Assign the `x` variable to `hue` and set `legend=False` for the same effect.\n",
            "\n",
            "  sns.barplot(x=no_show_counts.index, y=no_show_counts.values, palette=\"viridis\")\n"
          ]
        },
        {
          "output_type": "display_data",
          "data": {
            "text/plain": [
              "<Figure size 600x400 with 1 Axes>"
            ],
            "image/png": "[encoded data removed]"
          },
          "metadata": {}
        }
      ]
    },
    {
      "cell_type": "code",
      "source": [
        "# Analyzing the impact of SMS on attendance\n",
        "sms_vs_show = data.groupby(['SMS_received', 'Showed_up']).size().unstack()\n",
        "sms_vs_show"
      ],
      "metadata": {
        "colab": {
          "base_uri": "https://localhost:8080/",
          "height": 143
        },
        "id": "RU_2g6p1gJzH",
        "outputId": "97415aba-669d-413b-e4de-c365a4b393fe"
      },
      "id": "RU_2g6p1gJzH",
      "execution_count": 29,
      "outputs": [
        {
          "output_type": "execute_result",
          "data": {
            "text/plain": [
              "Showed_up     False  True \n",
              "SMS_received              \n",
              "False         12112  60290\n",
              "True           9568  25017"
            ],
            "text/html": [
              "\n",
              "  <div id=\"df-7477be2e-f7f8-4bfd-b5f2-d14d4626ae7b\" class=\"colab-df-container\">\n",
              "    <div>\n",
              "<style scoped>\n",
              "    .dataframe tbody tr th:only-of-type {\n",
              "        vertical-align: middle;\n",
              "    }\n",
              "\n",
              "    .dataframe tbody tr th {\n",
              "        vertical-align: top;\n",
              "    }\n",
              "\n",
              "    .dataframe thead th {\n",
              "        text-align: right;\n",
              "    }\n",
              "</style>\n",
              "<table border=\"1\" class=\"dataframe\">\n",
              "  <thead>\n",
              "    <tr style=\"text-align: right;\">\n",
              "      <th>Showed_up</th>\n",
              "      <th>False</th>\n",
              "      <th>True</th>\n",
              "    </tr>\n",
              "    <tr>\n",
              "      <th>SMS_received</th>\n",
              "      <th></th>\n",
              "      <th></th>\n",
              "    </tr>\n",
              "  </thead>\n",
              "  <tbody>\n",
              "    <tr>\n",
              "      <th>False</th>\n",
              "      <td>12112</td>\n",
              "      <td>60290</td>\n",
              "    </tr>\n",
              "    <tr>\n",
              "      <th>True</th>\n",
              "      <td>9568</td>\n",
              "      <td>25017</td>\n",
              "    </tr>\n",
              "  </tbody>\n",
              "</table>\n",
              "</div>\n",
              "    <div class=\"colab-df-buttons\">\n",
              "\n",
              "  <div class=\"colab-df-container\">\n",
              "    <button class=\"colab-df-convert\" onclick=\"convertToInteractive('df-7477be2e-f7f8-4bfd-b5f2-d14d4626ae7b')\"\n",
              "            title=\"Convert this dataframe to an interactive table.\"\n",
              "            style=\"display:none;\">\n",
              "\n",
              "  <svg xmlns=\"http://www.w3.org/2000/svg\" height=\"24px\" viewBox=\"0 -960 960 960\">\n",
              "    <path d=\"M120-120v-720h720v720H120Zm60-500h600v-160H180v160Zm220 220h160v-160H400v160Zm0 220h160v-160H400v160ZM180-400h160v-160H180v160Zm440 0h160v-160H620v160ZM180-180h160v-160H180v160Zm440 0h160v-160H620v160Z\"/>\n",
              "  </svg>\n",
              "    </button>\n",
              "\n",
              "  <style>\n",
              "    .colab-df-container {\n",
              "      display:flex;\n",
              "      gap: 12px;\n",
              "    }\n",
              "\n",
              "    .colab-df-convert {\n",
              "      background-color: #E8F0FE;\n",
              "      border: none;\n",
              "      border-radius: 50%;\n",
              "      cursor: pointer;\n",
              "      display: none;\n",
              "      fill: #1967D2;\n",
              "      height: 32px;\n",
              "      padding: 0 0 0 0;\n",
              "      width: 32px;\n",
              "    }\n",
              "\n",
              "    .colab-df-convert:hover {\n",
              "      background-color: #E2EBFA;\n",
              "      box-shadow: 0px 1px 2px rgba(60, 64, 67, 0.3), 0px 1px 3px 1px rgba(60, 64, 67, 0.15);\n",
              "      fill: #174EA6;\n",
              "    }\n",
              "\n",
              "    .colab-df-buttons div {\n",
              "      margin-bottom: 4px;\n",
              "    }\n",
              "\n",
              "    [theme=dark] .colab-df-convert {\n",
              "      background-color: #3B4455;\n",
              "      fill: #D2E3FC;\n",
              "    }\n",
              "\n",
              "    [theme=dark] .colab-df-convert:hover {\n",
              "      background-color: #434B5C;\n",
              "      box-shadow: 0px 1px 3px 1px rgba(0, 0, 0, 0.15);\n",
              "      filter: drop-shadow(0px 1px 2px rgba(0, 0, 0, 0.3));\n",
              "      fill: #FFFFFF;\n",
              "    }\n",
              "  </style>\n",
              "\n",
              "    <script>\n",
              "      const buttonEl =\n",
              "        document.querySelector('#df-7477be2e-f7f8-4bfd-b5f2-d14d4626ae7b button.colab-df-convert');\n",
              "      buttonEl.style.display =\n",
              "        google.colab.kernel.accessAllowed ? 'block' : 'none';\n",
              "\n",
              "      async function convertToInteractive(key) {\n",
              "        const element = document.querySelector('#df-7477be2e-f7f8-4bfd-b5f2-d14d4626ae7b');\n",
              "        const dataTable =\n",
              "          await google.colab.kernel.invokeFunction('convertToInteractive',\n",
              "                                                    [key], {});\n",
              "        if (!dataTable) return;\n",
              "\n",
              "        const docLinkHtml = 'Like what you see? Visit the ' +\n",
              "          '<a target=\"_blank\" href=https://colab.research.google.com/notebooks/data_table.ipynb>data table notebook</a>'\n",
              "          + ' to learn more about interactive tables.';\n",
              "        element.innerHTML = '';\n",
              "        dataTable['output_type'] = 'display_data';\n",
              "        await google.colab.output.renderOutput(dataTable, element);\n",
              "        const docLink = document.createElement('div');\n",
              "        docLink.innerHTML = docLinkHtml;\n",
              "        element.appendChild(docLink);\n",
              "      }\n",
              "    </script>\n",
              "  </div>\n",
              "\n",
              "\n",
              "<div id=\"df-580b0d89-1433-4253-b009-03603cf092e4\">\n",
              "  <button class=\"colab-df-quickchart\" onclick=\"quickchart('df-580b0d89-1433-4253-b009-03603cf092e4')\"\n",
              "            title=\"Suggest charts\"\n",
              "            style=\"display:none;\">\n",
              "\n",
              "<svg xmlns=\"http://www.w3.org/2000/svg\" height=\"24px\"viewBox=\"0 0 24 24\"\n",
              "     width=\"24px\">\n",
              "    <g>\n",
              "        <path d=\"M19 3H5c-1.1 0-2 .9-2 2v14c0 1.1.9 2 2 2h14c1.1 0 2-.9 2-2V5c0-1.1-.9-2-2-2zM9 17H7v-7h2v7zm4 0h-2V7h2v10zm4 0h-2v-4h2v4z\"/>\n",
              "    </g>\n",
              "</svg>\n",
              "  </button>\n",
              "\n",
              "<style>\n",
              "  .colab-df-quickchart {\n",
              "      --bg-color: #E8F0FE;\n",
              "      --fill-color: #1967D2;\n",
              "      --hover-bg-color: #E2EBFA;\n",
              "      --hover-fill-color: #174EA6;\n",
              "      --disabled-fill-color: #AAA;\n",
              "      --disabled-bg-color: #DDD;\n",
              "  }\n",
              "\n",
              "  [theme=dark] .colab-df-quickchart {\n",
              "      --bg-color: #3B4455;\n",
              "      --fill-color: #D2E3FC;\n",
              "      --hover-bg-color: #434B5C;\n",
              "      --hover-fill-color: #FFFFFF;\n",
              "      --disabled-bg-color: #3B4455;\n",
              "      --disabled-fill-color: #666;\n",
              "  }\n",
              "\n",
              "  .colab-df-quickchart {\n",
              "    background-color: var(--bg-color);\n",
              "    border: none;\n",
              "    border-radius: 50%;\n",
              "    cursor: pointer;\n",
              "    display: none;\n",
              "    fill: var(--fill-color);\n",
              "    height: 32px;\n",
              "    padding: 0;\n",
              "    width: 32px;\n",
              "  }\n",
              "\n",
              "  .colab-df-quickchart:hover {\n",
              "    background-color: var(--hover-bg-color);\n",
              "    box-shadow: 0 1px 2px rgba(60, 64, 67, 0.3), 0 1px 3px 1px rgba(60, 64, 67, 0.15);\n",
              "    fill: var(--button-hover-fill-color);\n",
              "  }\n",
              "\n",
              "  .colab-df-quickchart-complete:disabled,\n",
              "  .colab-df-quickchart-complete:disabled:hover {\n",
              "    background-color: var(--disabled-bg-color);\n",
              "    fill: var(--disabled-fill-color);\n",
              "    box-shadow: none;\n",
              "  }\n",
              "\n",
              "  .colab-df-spinner {\n",
              "    border: 2px solid var(--fill-color);\n",
              "    border-color: transparent;\n",
              "    border-bottom-color: var(--fill-color);\n",
              "    animation:\n",
              "      spin 1s steps(1) infinite;\n",
              "  }\n",
              "\n",
              "  @keyframes spin {\n",
              "    0% {\n",
              "      border-color: transparent;\n",
              "      border-bottom-color: var(--fill-color);\n",
              "      border-left-color: var(--fill-color);\n",
              "    }\n",
              "    20% {\n",
              "      border-color: transparent;\n",
              "      border-left-color: var(--fill-color);\n",
              "      border-top-color: var(--fill-color);\n",
              "    }\n",
              "    30% {\n",
              "      border-color: transparent;\n",
              "      border-left-color: var(--fill-color);\n",
              "      border-top-color: var(--fill-color);\n",
              "      border-right-color: var(--fill-color);\n",
              "    }\n",
              "    40% {\n",
              "      border-color: transparent;\n",
              "      border-right-color: var(--fill-color);\n",
              "      border-top-color: var(--fill-color);\n",
              "    }\n",
              "    60% {\n",
              "      border-color: transparent;\n",
              "      border-right-color: var(--fill-color);\n",
              "    }\n",
              "    80% {\n",
              "      border-color: transparent;\n",
              "      border-right-color: var(--fill-color);\n",
              "      border-bottom-color: var(--fill-color);\n",
              "    }\n",
              "    90% {\n",
              "      border-color: transparent;\n",
              "      border-bottom-color: var(--fill-color);\n",
              "    }\n",
              "  }\n",
              "</style>\n",
              "\n",
              "  <script>\n",
              "    async function quickchart(key) {\n",
              "      const quickchartButtonEl =\n",
              "        document.querySelector('#' + key + ' button');\n",
              "      quickchartButtonEl.disabled = true;  // To prevent multiple clicks.\n",
              "      quickchartButtonEl.classList.add('colab-df-spinner');\n",
              "      try {\n",
              "        const charts = await google.colab.kernel.invokeFunction(\n",
              "            'suggestCharts', [key], {});\n",
              "      } catch (error) {\n",
              "        console.error('Error during call to suggestCharts:', error);\n",
              "      }\n",
              "      quickchartButtonEl.classList.remove('colab-df-spinner');\n",
              "      quickchartButtonEl.classList.add('colab-df-quickchart-complete');\n",
              "    }\n",
              "    (() => {\n",
              "      let quickchartButtonEl =\n",
              "        document.querySelector('#df-580b0d89-1433-4253-b009-03603cf092e4 button');\n",
              "      quickchartButtonEl.style.display =\n",
              "        google.colab.kernel.accessAllowed ? 'block' : 'none';\n",
              "    })();\n",
              "  </script>\n",
              "</div>\n",
              "\n",
              "  <div id=\"id_72de9f6d-f0a5-4388-8ffa-f8800b886720\">\n",
              "    <style>\n",
              "      .colab-df-generate {\n",
              "        background-color: #E8F0FE;\n",
              "        border: none;\n",
              "        border-radius: 50%;\n",
              "        cursor: pointer;\n",
              "        display: none;\n",
              "        fill: #1967D2;\n",
              "        height: 32px;\n",
              "        padding: 0 0 0 0;\n",
              "        width: 32px;\n",
              "      }\n",
              "\n",
              "      .colab-df-generate:hover {\n",
              "        background-color: #E2EBFA;\n",
              "        box-shadow: 0px 1px 2px rgba(60, 64, 67, 0.3), 0px 1px 3px 1px rgba(60, 64, 67, 0.15);\n",
              "        fill: #174EA6;\n",
              "      }\n",
              "\n",
              "      [theme=dark] .colab-df-generate {\n",
              "        background-color: #3B4455;\n",
              "        fill: #D2E3FC;\n",
              "      }\n",
              "\n",
              "      [theme=dark] .colab-df-generate:hover {\n",
              "        background-color: #434B5C;\n",
              "        box-shadow: 0px 1px 3px 1px rgba(0, 0, 0, 0.15);\n",
              "        filter: drop-shadow(0px 1px 2px rgba(0, 0, 0, 0.3));\n",
              "        fill: #FFFFFF;\n",
              "      }\n",
              "    </style>\n",
              "    <button class=\"colab-df-generate\" onclick=\"generateWithVariable('sms_vs_show')\"\n",
              "            title=\"Generate code using this dataframe.\"\n",
              "            style=\"display:none;\">\n",
              "\n",
              "  <svg xmlns=\"http://www.w3.org/2000/svg\" height=\"24px\"viewBox=\"0 0 24 24\"\n",
              "       width=\"24px\">\n",
              "    <path d=\"M7,19H8.4L18.45,9,17,7.55,7,17.6ZM5,21V16.75L18.45,3.32a2,2,0,0,1,2.83,0l1.4,1.43a1.91,1.91,0,0,1,.58,1.4,1.91,1.91,0,0,1-.58,1.4L9.25,21ZM18.45,9,17,7.55Zm-12,3A5.31,5.31,0,0,0,4.9,8.1,5.31,5.31,0,0,0,1,6.5,5.31,5.31,0,0,0,4.9,4.9,5.31,5.31,0,0,0,6.5,1,5.31,5.31,0,0,0,8.1,4.9,5.31,5.31,0,0,0,12,6.5,5.46,5.46,0,0,0,6.5,12Z\"/>\n",
              "  </svg>\n",
              "    </button>\n",
              "    <script>\n",
              "      (() => {\n",
              "      const buttonEl =\n",
              "        document.querySelector('#id_72de9f6d-f0a5-4388-8ffa-f8800b886720 button.colab-df-generate');\n",
              "      buttonEl.style.display =\n",
              "        google.colab.kernel.accessAllowed ? 'block' : 'none';\n",
              "\n",
              "      buttonEl.onclick = () => {\n",
              "        google.colab.notebook.generateWithVariable('sms_vs_show');\n",
              "      }\n",
              "      })();\n",
              "    </script>\n",
              "  </div>\n",
              "\n",
              "    </div>\n",
              "  </div>\n"
            ],
            "application/vnd.google.colaboratory.intrinsic+json": {
              "type": "dataframe",
              "variable_name": "sms_vs_show",
              "summary": "{\n  \"name\": \"sms_vs_show\",\n  \"rows\": 2,\n  \"fields\": [\n    {\n      \"column\": \"SMS_received\",\n      \"properties\": {\n        \"dtype\": \"boolean\",\n        \"num_unique_values\": 2,\n        \"samples\": [\n          true,\n          false\n        ],\n        \"semantic_type\": \"\",\n        \"description\": \"\"\n      }\n    },\n    {\n      \"column\": false,\n      \"properties\": {\n        \"dtype\": \"number\",\n        \"std\": 1798,\n        \"min\": 9568,\n        \"max\": 12112,\n        \"num_unique_values\": 2,\n        \"samples\": [\n          9568,\n          12112\n        ],\n        \"semantic_type\": \"\",\n        \"description\": \"\"\n      }\n    },\n    {\n      \"column\": true,\n      \"properties\": {\n        \"dtype\": \"number\",\n        \"std\": 24941,\n        \"min\": 25017,\n        \"max\": 60290,\n        \"num_unique_values\": 2,\n        \"samples\": [\n          25017,\n          60290\n        ],\n        \"semantic_type\": \"\",\n        \"description\": \"\"\n      }\n    }\n  ]\n}"
            }
          },
          "metadata": {},
          "execution_count": 29
        }
      ]
    },
    {
      "cell_type": "code",
      "source": [
        "sms_vs_show.plot(kind='bar', stacked=True, color=['#8B008B', '#FF8C00'], figsize=(8, 6))\n",
        "plt.title(\"Impact of SMS Received on Show-Up Rates\")\n",
        "plt.ylabel(\"Count\")\n",
        "plt.xlabel(\"SMS Received\")\n",
        "plt.legend([\"No-show\", \"Showed\"], title=\"Attendance\")\n",
        "plt.show()"
      ],
      "metadata": {
        "colab": {
          "base_uri": "https://localhost:8080/",
          "height": 585
        },
        "id": "UYWjEnDlgNh0",
        "outputId": "eda11ab9-9d06-44b8-9879-af9564672bde"
      },
      "id": "UYWjEnDlgNh0",
      "execution_count": 30,
      "outputs": [
        {
          "output_type": "display_data",
          "data": {
            "text/plain": [
              "<Figure size 800x600 with 1 Axes>"
            ],
            "image/png": "[encoded data removed]"
          },
          "metadata": {}
        }
      ]
    },
    {
      "cell_type": "code",
      "source": [
        "data.corr()"
      ],
      "metadata": {
        "colab": {
          "base_uri": "https://localhost:8080/",
          "height": 461
        },
        "id": "HoO_IMD8gRrL",
        "outputId": "6563daef-592c-41bf-9830-848926f970a4"
      },
      "id": "HoO_IMD8gRrL",
      "execution_count": 31,
      "outputs": [
        {
          "output_type": "execute_result",
          "data": {
            "text/plain": [
              "                             ScheduledDay  AppointmentDay       Age  \\\n",
              "ScheduledDay                     1.000000        0.604808 -0.024109   \n",
              "AppointmentDay                   0.604808        1.000000  0.010805   \n",
              "Age                             -0.024109        0.010805  1.000000   \n",
              "Scholarship                      0.023316       -0.001483 -0.112699   \n",
              "Hypertension                     0.012334       -0.001904  0.502091   \n",
              "...                                   ...             ...       ...   \n",
              "Neighbourhood_TABUAZEIRO         0.005844       -0.003642 -0.015487   \n",
              "Neighbourhood_UNIVERSITÁRIO      0.005199        0.001342  0.006697   \n",
              "Neighbourhood_VILA RUBIM        -0.016154       -0.011703  0.028621   \n",
              "ScheduledDay_DayOfWeek          -0.044288       -0.052977  0.007503   \n",
              "AppointmentDay_DayOfWeek        -0.064520       -0.117855  0.000548   \n",
              "\n",
              "                             Scholarship  Hypertension  Diabetes  Alcoholism  \\\n",
              "ScheduledDay                    0.023316      0.012334  0.022470    0.032760   \n",
              "AppointmentDay                 -0.001483     -0.001904  0.001069    0.002698   \n",
              "Age                            -0.112699      0.502091  0.290631    0.090391   \n",
              "Scholarship                     1.000000     -0.024530 -0.027622    0.033527   \n",
              "Hypertension                   -0.024530      1.000000  0.430827    0.085459   \n",
              "...                                  ...           ...       ...         ...   \n",
              "Neighbourhood_TABUAZEIRO        0.041202      0.013566  0.003415   -0.012238   \n",
              "Neighbourhood_UNIVERSITÁRIO    -0.008473      0.006323  0.005498   -0.003915   \n",
              "Neighbourhood_VILA RUBIM       -0.004865      0.016956  0.011569   -0.005522   \n",
              "ScheduledDay_DayOfWeek         -0.005582     -0.000669 -0.001156    0.006256   \n",
              "AppointmentDay_DayOfWeek       -0.000780      0.002716  0.006279    0.002459   \n",
              "\n",
              "                             Handicap  SMS_received  Showed_up  ...  \\\n",
              "ScheduledDay                 0.014480     -0.255584   0.161646  ...   \n",
              "AppointmentDay              -0.003673      0.094904   0.021425  ...   \n",
              "Age                          0.079726      0.005251   0.067025  ...   \n",
              "Scholarship                 -0.010465     -0.000010  -0.029370  ...   \n",
              "Hypertension                 0.082909     -0.008805   0.037280  ...   \n",
              "...                               ...           ...        ...  ...   \n",
              "Neighbourhood_TABUAZEIRO     0.006620     -0.004578   0.008394  ...   \n",
              "Neighbourhood_UNIVERSITÁRIO -0.000281      0.002761  -0.000868  ...   \n",
              "Neighbourhood_VILA RUBIM     0.015369      0.009575   0.007688  ...   \n",
              "ScheduledDay_DayOfWeek       0.000723      0.078614  -0.006087  ...   \n",
              "AppointmentDay_DayOfWeek     0.004409     -0.092621  -0.002079  ...   \n",
              "\n",
              "                             Neighbourhood_SOLON BORGES  \\\n",
              "ScheduledDay                                  -0.009492   \n",
              "AppointmentDay                                -0.000612   \n",
              "Age                                            0.023734   \n",
              "Scholarship                                   -0.004622   \n",
              "Hypertension                                  -0.022934   \n",
              "...                                                 ...   \n",
              "Neighbourhood_TABUAZEIRO                      -0.011100   \n",
              "Neighbourhood_UNIVERSITÁRIO                   -0.002449   \n",
              "Neighbourhood_VILA RUBIM                      -0.005756   \n",
              "ScheduledDay_DayOfWeek                        -0.002381   \n",
              "AppointmentDay_DayOfWeek                       0.004212   \n",
              "\n",
              "                             Neighbourhood_SÃO BENEDITO  \\\n",
              "ScheduledDay                                   0.020964   \n",
              "AppointmentDay                                 0.001764   \n",
              "Age                                           -0.038731   \n",
              "Scholarship                                    0.074302   \n",
              "Hypertension                                   0.003887   \n",
              "...                                                 ...   \n",
              "Neighbourhood_TABUAZEIRO                      -0.019271   \n",
              "Neighbourhood_UNIVERSITÁRIO                   -0.004252   \n",
              "Neighbourhood_VILA RUBIM                      -0.009994   \n",
              "ScheduledDay_DayOfWeek                        -0.004496   \n",
              "AppointmentDay_DayOfWeek                      -0.002469   \n",
              "\n",
              "                             Neighbourhood_SÃO CRISTÓVÃO  \\\n",
              "ScheduledDay                                   -0.013094   \n",
              "AppointmentDay                                 -0.005183   \n",
              "Age                                             0.011605   \n",
              "Scholarship                                    -0.002020   \n",
              "Hypertension                                    0.035013   \n",
              "...                                                  ...   \n",
              "Neighbourhood_TABUAZEIRO                       -0.022197   \n",
              "Neighbourhood_UNIVERSITÁRIO                    -0.004897   \n",
              "Neighbourhood_VILA RUBIM                       -0.011511   \n",
              "ScheduledDay_DayOfWeek                         -0.000603   \n",
              "AppointmentDay_DayOfWeek                        0.001815   \n",
              "\n",
              "                             Neighbourhood_SÃO JOSÉ  Neighbourhood_SÃO PEDRO  \\\n",
              "ScheduledDay                               0.024810                 0.034168   \n",
              "AppointmentDay                            -0.003673                -0.004694   \n",
              "Age                                       -0.016265                -0.004734   \n",
              "Scholarship                               -0.002066                 0.017786   \n",
              "Hypertension                               0.023448                 0.030415   \n",
              "...                                             ...                      ...   \n",
              "Neighbourhood_TABUAZEIRO                  -0.022716                -0.025515   \n",
              "Neighbourhood_UNIVERSITÁRIO               -0.005012                -0.005629   \n",
              "Neighbourhood_VILA RUBIM                  -0.011780                -0.013232   \n",
              "ScheduledDay_DayOfWeek                     0.028662                 0.010121   \n",
              "AppointmentDay_DayOfWeek                   0.016791                 0.004300   \n",
              "\n",
              "                             Neighbourhood_TABUAZEIRO  \\\n",
              "ScheduledDay                                 0.005844   \n",
              "AppointmentDay                              -0.003642   \n",
              "Age                                         -0.015487   \n",
              "Scholarship                                  0.041202   \n",
              "Hypertension                                 0.013566   \n",
              "...                                               ...   \n",
              "Neighbourhood_TABUAZEIRO                     1.000000   \n",
              "Neighbourhood_UNIVERSITÁRIO                 -0.006406   \n",
              "Neighbourhood_VILA RUBIM                    -0.015059   \n",
              "ScheduledDay_DayOfWeek                      -0.002388   \n",
              "AppointmentDay_DayOfWeek                     0.000219   \n",
              "\n",
              "                             Neighbourhood_UNIVERSITÁRIO  \\\n",
              "ScheduledDay                                    0.005199   \n",
              "AppointmentDay                                  0.001342   \n",
              "Age                                             0.006697   \n",
              "Scholarship                                    -0.008473   \n",
              "Hypertension                                    0.006323   \n",
              "...                                                  ...   \n",
              "Neighbourhood_TABUAZEIRO                       -0.006406   \n",
              "Neighbourhood_UNIVERSITÁRIO                     1.000000   \n",
              "Neighbourhood_VILA RUBIM                       -0.003322   \n",
              "ScheduledDay_DayOfWeek                         -0.002928   \n",
              "AppointmentDay_DayOfWeek                        0.000195   \n",
              "\n",
              "                             Neighbourhood_VILA RUBIM  ScheduledDay_DayOfWeek  \\\n",
              "ScheduledDay                                -0.016154               -0.044288   \n",
              "AppointmentDay                              -0.011703               -0.052977   \n",
              "Age                                          0.028621                0.007503   \n",
              "Scholarship                                 -0.004865               -0.005582   \n",
              "Hypertension                                 0.016956               -0.000669   \n",
              "...                                               ...                     ...   \n",
              "Neighbourhood_TABUAZEIRO                    -0.015059               -0.002388   \n",
              "Neighbourhood_UNIVERSITÁRIO                 -0.003322               -0.002928   \n",
              "Neighbourhood_VILA RUBIM                     1.000000               -0.006292   \n",
              "ScheduledDay_DayOfWeek                      -0.006292                1.000000   \n",
              "AppointmentDay_DayOfWeek                    -0.005853                0.324909   \n",
              "\n",
              "                             AppointmentDay_DayOfWeek  \n",
              "ScheduledDay                                -0.064520  \n",
              "AppointmentDay                              -0.117855  \n",
              "Age                                          0.000548  \n",
              "Scholarship                                 -0.000780  \n",
              "Hypertension                                 0.002716  \n",
              "...                                               ...  \n",
              "Neighbourhood_TABUAZEIRO                     0.000219  \n",
              "Neighbourhood_UNIVERSITÁRIO                  0.000195  \n",
              "Neighbourhood_VILA RUBIM                    -0.005853  \n",
              "ScheduledDay_DayOfWeek                       0.324909  \n",
              "AppointmentDay_DayOfWeek                     1.000000  \n",
              "\n",
              "[94 rows x 94 columns]"
            ],
            "text/html": [
              "\n",
              "  <div id=\"df-bbd8ef0e-05fc-48df-8c75-e88610433245\" class=\"colab-df-container\">\n",
              "    <div>\n",
              "<style scoped>\n",
              "    .dataframe tbody tr th:only-of-type {\n",
              "        vertical-align: middle;\n",
              "    }\n",
              "\n",
              "    .dataframe tbody tr th {\n",
              "        vertical-align: top;\n",
              "    }\n",
              "\n",
              "    .dataframe thead th {\n",
              "        text-align: right;\n",
              "    }\n",
              "</style>\n",
              "<table border=\"1\" class=\"dataframe\">\n",
              "  <thead>\n",
              "    <tr style=\"text-align: right;\">\n",
              "      <th></th>\n",
              "      <th>ScheduledDay</th>\n",
              "      <th>AppointmentDay</th>\n",
              "      <th>Age</th>\n",
              "      <th>Scholarship</th>\n",
              "      <th>Hypertension</th>\n",
              "      <th>Diabetes</th>\n",
              "      <th>Alcoholism</th>\n",
              "      <th>Handicap</th>\n",
              "      <th>SMS_received</th>\n",
              "      <th>Showed_up</th>\n",
              "      <th>...</th>\n",
              "      <th>Neighbourhood_SOLON BORGES</th>\n",
              "      <th>Neighbourhood_SÃO BENEDITO</th>\n",
              "      <th>Neighbourhood_SÃO CRISTÓVÃO</th>\n",
              "      <th>Neighbourhood_SÃO JOSÉ</th>\n",
              "      <th>Neighbourhood_SÃO PEDRO</th>\n",
              "      <th>Neighbourhood_TABUAZEIRO</th>\n",
              "      <th>Neighbourhood_UNIVERSITÁRIO</th>\n",
              "      <th>Neighbourhood_VILA RUBIM</th>\n",
              "      <th>ScheduledDay_DayOfWeek</th>\n",
              "      <th>AppointmentDay_DayOfWeek</th>\n",
              "    </tr>\n",
              "  </thead>\n",
              "  <tbody>\n",
              "    <tr>\n",
              "      <th>ScheduledDay</th>\n",
              "      <td>1.000000</td>\n",
              "      <td>0.604808</td>\n",
              "      <td>-0.024109</td>\n",
              "      <td>0.023316</td>\n",
              "      <td>0.012334</td>\n",
              "      <td>0.022470</td>\n",
              "      <td>0.032760</td>\n",
              "      <td>0.014480</td>\n",
              "      <td>-0.255584</td>\n",
              "      <td>0.161646</td>\n",
              "      <td>...</td>\n",
              "      <td>-0.009492</td>\n",
              "      <td>0.020964</td>\n",
              "      <td>-0.013094</td>\n",
              "      <td>0.024810</td>\n",
              "      <td>0.034168</td>\n",
              "      <td>0.005844</td>\n",
              "      <td>0.005199</td>\n",
              "      <td>-0.016154</td>\n",
              "      <td>-0.044288</td>\n",
              "      <td>-0.064520</td>\n",
              "    </tr>\n",
              "    <tr>\n",
              "      <th>AppointmentDay</th>\n",
              "      <td>0.604808</td>\n",
              "      <td>1.000000</td>\n",
              "      <td>0.010805</td>\n",
              "      <td>-0.001483</td>\n",
              "      <td>-0.001904</td>\n",
              "      <td>0.001069</td>\n",
              "      <td>0.002698</td>\n",
              "      <td>-0.003673</td>\n",
              "      <td>0.094904</td>\n",
              "      <td>0.021425</td>\n",
              "      <td>...</td>\n",
              "      <td>-0.000612</td>\n",
              "      <td>0.001764</td>\n",
              "      <td>-0.005183</td>\n",
              "      <td>-0.003673</td>\n",
              "      <td>-0.004694</td>\n",
              "      <td>-0.003642</td>\n",
              "      <td>0.001342</td>\n",
              "      <td>-0.011703</td>\n",
              "      <td>-0.052977</td>\n",
              "      <td>-0.117855</td>\n",
              "    </tr>\n",
              "    <tr>\n",
              "      <th>Age</th>\n",
              "      <td>-0.024109</td>\n",
              "      <td>0.010805</td>\n",
              "      <td>1.000000</td>\n",
              "      <td>-0.112699</td>\n",
              "      <td>0.502091</td>\n",
              "      <td>0.290631</td>\n",
              "      <td>0.090391</td>\n",
              "      <td>0.079726</td>\n",
              "      <td>0.005251</td>\n",
              "      <td>0.067025</td>\n",
              "      <td>...</td>\n",
              "      <td>0.023734</td>\n",
              "      <td>-0.038731</td>\n",
              "      <td>0.011605</td>\n",
              "      <td>-0.016265</td>\n",
              "      <td>-0.004734</td>\n",
              "      <td>-0.015487</td>\n",
              "      <td>0.006697</td>\n",
              "      <td>0.028621</td>\n",
              "      <td>0.007503</td>\n",
              "      <td>0.000548</td>\n",
              "    </tr>\n",
              "    <tr>\n",
              "      <th>Scholarship</th>\n",
              "      <td>0.023316</td>\n",
              "      <td>-0.001483</td>\n",
              "      <td>-0.112699</td>\n",
              "      <td>1.000000</td>\n",
              "      <td>-0.024530</td>\n",
              "      <td>-0.027622</td>\n",
              "      <td>0.033527</td>\n",
              "      <td>-0.010465</td>\n",
              "      <td>-0.000010</td>\n",
              "      <td>-0.029370</td>\n",
              "      <td>...</td>\n",
              "      <td>-0.004622</td>\n",
              "      <td>0.074302</td>\n",
              "      <td>-0.002020</td>\n",
              "      <td>-0.002066</td>\n",
              "      <td>0.017786</td>\n",
              "      <td>0.041202</td>\n",
              "      <td>-0.008473</td>\n",
              "      <td>-0.004865</td>\n",
              "      <td>-0.005582</td>\n",
              "      <td>-0.000780</td>\n",
              "    </tr>\n",
              "    <tr>\n",
              "      <th>Hypertension</th>\n",
              "      <td>0.012334</td>\n",
              "      <td>-0.001904</td>\n",
              "      <td>0.502091</td>\n",
              "      <td>-0.024530</td>\n",
              "      <td>1.000000</td>\n",
              "      <td>0.430827</td>\n",
              "      <td>0.085459</td>\n",
              "      <td>0.082909</td>\n",
              "      <td>-0.008805</td>\n",
              "      <td>0.037280</td>\n",
              "      <td>...</td>\n",
              "      <td>-0.022934</td>\n",
              "      <td>0.003887</td>\n",
              "      <td>0.035013</td>\n",
              "      <td>0.023448</td>\n",
              "      <td>0.030415</td>\n",
              "      <td>0.013566</td>\n",
              "      <td>0.006323</td>\n",
              "      <td>0.016956</td>\n",
              "      <td>-0.000669</td>\n",
              "      <td>0.002716</td>\n",
              "    </tr>\n",
              "    <tr>\n",
              "      <th>...</th>\n",
              "      <td>...</td>\n",
              "      <td>...</td>\n",
              "      <td>...</td>\n",
              "      <td>...</td>\n",
              "      <td>...</td>\n",
              "      <td>...</td>\n",
              "      <td>...</td>\n",
              "      <td>...</td>\n",
              "      <td>...</td>\n",
              "      <td>...</td>\n",
              "      <td>...</td>\n",
              "      <td>...</td>\n",
              "      <td>...</td>\n",
              "      <td>...</td>\n",
              "      <td>...</td>\n",
              "      <td>...</td>\n",
              "      <td>...</td>\n",
              "      <td>...</td>\n",
              "      <td>...</td>\n",
              "      <td>...</td>\n",
              "      <td>...</td>\n",
              "    </tr>\n",
              "    <tr>\n",
              "      <th>Neighbourhood_TABUAZEIRO</th>\n",
              "      <td>0.005844</td>\n",
              "      <td>-0.003642</td>\n",
              "      <td>-0.015487</td>\n",
              "      <td>0.041202</td>\n",
              "      <td>0.013566</td>\n",
              "      <td>0.003415</td>\n",
              "      <td>-0.012238</td>\n",
              "      <td>0.006620</td>\n",
              "      <td>-0.004578</td>\n",
              "      <td>0.008394</td>\n",
              "      <td>...</td>\n",
              "      <td>-0.011100</td>\n",
              "      <td>-0.019271</td>\n",
              "      <td>-0.022197</td>\n",
              "      <td>-0.022716</td>\n",
              "      <td>-0.025515</td>\n",
              "      <td>1.000000</td>\n",
              "      <td>-0.006406</td>\n",
              "      <td>-0.015059</td>\n",
              "      <td>-0.002388</td>\n",
              "      <td>0.000219</td>\n",
              "    </tr>\n",
              "    <tr>\n",
              "      <th>Neighbourhood_UNIVERSITÁRIO</th>\n",
              "      <td>0.005199</td>\n",
              "      <td>0.001342</td>\n",
              "      <td>0.006697</td>\n",
              "      <td>-0.008473</td>\n",
              "      <td>0.006323</td>\n",
              "      <td>0.005498</td>\n",
              "      <td>-0.003915</td>\n",
              "      <td>-0.000281</td>\n",
              "      <td>0.002761</td>\n",
              "      <td>-0.000868</td>\n",
              "      <td>...</td>\n",
              "      <td>-0.002449</td>\n",
              "      <td>-0.004252</td>\n",
              "      <td>-0.004897</td>\n",
              "      <td>-0.005012</td>\n",
              "      <td>-0.005629</td>\n",
              "      <td>-0.006406</td>\n",
              "      <td>1.000000</td>\n",
              "      <td>-0.003322</td>\n",
              "      <td>-0.002928</td>\n",
              "      <td>0.000195</td>\n",
              "    </tr>\n",
              "    <tr>\n",
              "      <th>Neighbourhood_VILA RUBIM</th>\n",
              "      <td>-0.016154</td>\n",
              "      <td>-0.011703</td>\n",
              "      <td>0.028621</td>\n",
              "      <td>-0.004865</td>\n",
              "      <td>0.016956</td>\n",
              "      <td>0.011569</td>\n",
              "      <td>-0.005522</td>\n",
              "      <td>0.015369</td>\n",
              "      <td>0.009575</td>\n",
              "      <td>0.007688</td>\n",
              "      <td>...</td>\n",
              "      <td>-0.005756</td>\n",
              "      <td>-0.009994</td>\n",
              "      <td>-0.011511</td>\n",
              "      <td>-0.011780</td>\n",
              "      <td>-0.013232</td>\n",
              "      <td>-0.015059</td>\n",
              "      <td>-0.003322</td>\n",
              "      <td>1.000000</td>\n",
              "      <td>-0.006292</td>\n",
              "      <td>-0.005853</td>\n",
              "    </tr>\n",
              "    <tr>\n",
              "      <th>ScheduledDay_DayOfWeek</th>\n",
              "      <td>-0.044288</td>\n",
              "      <td>-0.052977</td>\n",
              "      <td>0.007503</td>\n",
              "      <td>-0.005582</td>\n",
              "      <td>-0.000669</td>\n",
              "      <td>-0.001156</td>\n",
              "      <td>0.006256</td>\n",
              "      <td>0.000723</td>\n",
              "      <td>0.078614</td>\n",
              "      <td>-0.006087</td>\n",
              "      <td>...</td>\n",
              "      <td>-0.002381</td>\n",
              "      <td>-0.004496</td>\n",
              "      <td>-0.000603</td>\n",
              "      <td>0.028662</td>\n",
              "      <td>0.010121</td>\n",
              "      <td>-0.002388</td>\n",
              "      <td>-0.002928</td>\n",
              "      <td>-0.006292</td>\n",
              "      <td>1.000000</td>\n",
              "      <td>0.324909</td>\n",
              "    </tr>\n",
              "    <tr>\n",
              "      <th>AppointmentDay_DayOfWeek</th>\n",
              "      <td>-0.064520</td>\n",
              "      <td>-0.117855</td>\n",
              "      <td>0.000548</td>\n",
              "      <td>-0.000780</td>\n",
              "      <td>0.002716</td>\n",
              "      <td>0.006279</td>\n",
              "      <td>0.002459</td>\n",
              "      <td>0.004409</td>\n",
              "      <td>-0.092621</td>\n",
              "      <td>-0.002079</td>\n",
              "      <td>...</td>\n",
              "      <td>0.004212</td>\n",
              "      <td>-0.002469</td>\n",
              "      <td>0.001815</td>\n",
              "      <td>0.016791</td>\n",
              "      <td>0.004300</td>\n",
              "      <td>0.000219</td>\n",
              "      <td>0.000195</td>\n",
              "      <td>-0.005853</td>\n",
              "      <td>0.324909</td>\n",
              "      <td>1.000000</td>\n",
              "    </tr>\n",
              "  </tbody>\n",
              "</table>\n",
              "<p>94 rows × 94 columns</p>\n",
              "</div>\n",
              "    <div class=\"colab-df-buttons\">\n",
              "\n",
              "  <div class=\"colab-df-container\">\n",
              "    <button class=\"colab-df-convert\" onclick=\"convertToInteractive('df-bbd8ef0e-05fc-48df-8c75-e88610433245')\"\n",
              "            title=\"Convert this dataframe to an interactive table.\"\n",
              "            style=\"display:none;\">\n",
              "\n",
              "  <svg xmlns=\"http://www.w3.org/2000/svg\" height=\"24px\" viewBox=\"0 -960 960 960\">\n",
              "    <path d=\"M120-120v-720h720v720H120Zm60-500h600v-160H180v160Zm220 220h160v-160H400v160Zm0 220h160v-160H400v160ZM180-400h160v-160H180v160Zm440 0h160v-160H620v160ZM180-180h160v-160H180v160Zm440 0h160v-160H620v160Z\"/>\n",
              "  </svg>\n",
              "    </button>\n",
              "\n",
              "  <style>\n",
              "    .colab-df-container {\n",
              "      display:flex;\n",
              "      gap: 12px;\n",
              "    }\n",
              "\n",
              "    .colab-df-convert {\n",
              "      background-color: #E8F0FE;\n",
              "      border: none;\n",
              "      border-radius: 50%;\n",
              "      cursor: pointer;\n",
              "      display: none;\n",
              "      fill: #1967D2;\n",
              "      height: 32px;\n",
              "      padding: 0 0 0 0;\n",
              "      width: 32px;\n",
              "    }\n",
              "\n",
              "    .colab-df-convert:hover {\n",
              "      background-color: #E2EBFA;\n",
              "      box-shadow: 0px 1px 2px rgba(60, 64, 67, 0.3), 0px 1px 3px 1px rgba(60, 64, 67, 0.15);\n",
              "      fill: #174EA6;\n",
              "    }\n",
              "\n",
              "    .colab-df-buttons div {\n",
              "      margin-bottom: 4px;\n",
              "    }\n",
              "\n",
              "    [theme=dark] .colab-df-convert {\n",
              "      background-color: #3B4455;\n",
              "      fill: #D2E3FC;\n",
              "    }\n",
              "\n",
              "    [theme=dark] .colab-df-convert:hover {\n",
              "      background-color: #434B5C;\n",
              "      box-shadow: 0px 1px 3px 1px rgba(0, 0, 0, 0.15);\n",
              "      filter: drop-shadow(0px 1px 2px rgba(0, 0, 0, 0.3));\n",
              "      fill: #FFFFFF;\n",
              "    }\n",
              "  </style>\n",
              "\n",
              "    <script>\n",
              "      const buttonEl =\n",
              "        document.querySelector('#df-bbd8ef0e-05fc-48df-8c75-e88610433245 button.colab-df-convert');\n",
              "      buttonEl.style.display =\n",
              "        google.colab.kernel.accessAllowed ? 'block' : 'none';\n",
              "\n",
              "      async function convertToInteractive(key) {\n",
              "        const element = document.querySelector('#df-bbd8ef0e-05fc-48df-8c75-e88610433245');\n",
              "        const dataTable =\n",
              "          await google.colab.kernel.invokeFunction('convertToInteractive',\n",
              "                                                    [key], {});\n",
              "        if (!dataTable) return;\n",
              "\n",
              "        const docLinkHtml = 'Like what you see? Visit the ' +\n",
              "          '<a target=\"_blank\" href=https://colab.research.google.com/notebooks/data_table.ipynb>data table notebook</a>'\n",
              "          + ' to learn more about interactive tables.';\n",
              "        element.innerHTML = '';\n",
              "        dataTable['output_type'] = 'display_data';\n",
              "        await google.colab.output.renderOutput(dataTable, element);\n",
              "        const docLink = document.createElement('div');\n",
              "        docLink.innerHTML = docLinkHtml;\n",
              "        element.appendChild(docLink);\n",
              "      }\n",
              "    </script>\n",
              "  </div>\n",
              "\n",
              "\n",
              "<div id=\"df-6b35a54b-c41f-4bc0-a8ad-98b34ff8d6a9\">\n",
              "  <button class=\"colab-df-quickchart\" onclick=\"quickchart('df-6b35a54b-c41f-4bc0-a8ad-98b34ff8d6a9')\"\n",
              "            title=\"Suggest charts\"\n",
              "            style=\"display:none;\">\n",
              "\n",
              "<svg xmlns=\"http://www.w3.org/2000/svg\" height=\"24px\"viewBox=\"0 0 24 24\"\n",
              "     width=\"24px\">\n",
              "    <g>\n",
              "        <path d=\"M19 3H5c-1.1 0-2 .9-2 2v14c0 1.1.9 2 2 2h14c1.1 0 2-.9 2-2V5c0-1.1-.9-2-2-2zM9 17H7v-7h2v7zm4 0h-2V7h2v10zm4 0h-2v-4h2v4z\"/>\n",
              "    </g>\n",
              "</svg>\n",
              "  </button>\n",
              "\n",
              "<style>\n",
              "  .colab-df-quickchart {\n",
              "      --bg-color: #E8F0FE;\n",
              "      --fill-color: #1967D2;\n",
              "      --hover-bg-color: #E2EBFA;\n",
              "      --hover-fill-color: #174EA6;\n",
              "      --disabled-fill-color: #AAA;\n",
              "      --disabled-bg-color: #DDD;\n",
              "  }\n",
              "\n",
              "  [theme=dark] .colab-df-quickchart {\n",
              "      --bg-color: #3B4455;\n",
              "      --fill-color: #D2E3FC;\n",
              "      --hover-bg-color: #434B5C;\n",
              "      --hover-fill-color: #FFFFFF;\n",
              "      --disabled-bg-color: #3B4455;\n",
              "      --disabled-fill-color: #666;\n",
              "  }\n",
              "\n",
              "  .colab-df-quickchart {\n",
              "    background-color: var(--bg-color);\n",
              "    border: none;\n",
              "    border-radius: 50%;\n",
              "    cursor: pointer;\n",
              "    display: none;\n",
              "    fill: var(--fill-color);\n",
              "    height: 32px;\n",
              "    padding: 0;\n",
              "    width: 32px;\n",
              "  }\n",
              "\n",
              "  .colab-df-quickchart:hover {\n",
              "    background-color: var(--hover-bg-color);\n",
              "    box-shadow: 0 1px 2px rgba(60, 64, 67, 0.3), 0 1px 3px 1px rgba(60, 64, 67, 0.15);\n",
              "    fill: var(--button-hover-fill-color);\n",
              "  }\n",
              "\n",
              "  .colab-df-quickchart-complete:disabled,\n",
              "  .colab-df-quickchart-complete:disabled:hover {\n",
              "    background-color: var(--disabled-bg-color);\n",
              "    fill: var(--disabled-fill-color);\n",
              "    box-shadow: none;\n",
              "  }\n",
              "\n",
              "  .colab-df-spinner {\n",
              "    border: 2px solid var(--fill-color);\n",
              "    border-color: transparent;\n",
              "    border-bottom-color: var(--fill-color);\n",
              "    animation:\n",
              "      spin 1s steps(1) infinite;\n",
              "  }\n",
              "\n",
              "  @keyframes spin {\n",
              "    0% {\n",
              "      border-color: transparent;\n",
              "      border-bottom-color: var(--fill-color);\n",
              "      border-left-color: var(--fill-color);\n",
              "    }\n",
              "    20% {\n",
              "      border-color: transparent;\n",
              "      border-left-color: var(--fill-color);\n",
              "      border-top-color: var(--fill-color);\n",
              "    }\n",
              "    30% {\n",
              "      border-color: transparent;\n",
              "      border-left-color: var(--fill-color);\n",
              "      border-top-color: var(--fill-color);\n",
              "      border-right-color: var(--fill-color);\n",
              "    }\n",
              "    40% {\n",
              "      border-color: transparent;\n",
              "      border-right-color: var(--fill-color);\n",
              "      border-top-color: var(--fill-color);\n",
              "    }\n",
              "    60% {\n",
              "      border-color: transparent;\n",
              "      border-right-color: var(--fill-color);\n",
              "    }\n",
              "    80% {\n",
              "      border-color: transparent;\n",
              "      border-right-color: var(--fill-color);\n",
              "      border-bottom-color: var(--fill-color);\n",
              "    }\n",
              "    90% {\n",
              "      border-color: transparent;\n",
              "      border-bottom-color: var(--fill-color);\n",
              "    }\n",
              "  }\n",
              "</style>\n",
              "\n",
              "  <script>\n",
              "    async function quickchart(key) {\n",
              "      const quickchartButtonEl =\n",
              "        document.querySelector('#' + key + ' button');\n",
              "      quickchartButtonEl.disabled = true;  // To prevent multiple clicks.\n",
              "      quickchartButtonEl.classList.add('colab-df-spinner');\n",
              "      try {\n",
              "        const charts = await google.colab.kernel.invokeFunction(\n",
              "            'suggestCharts', [key], {});\n",
              "      } catch (error) {\n",
              "        console.error('Error during call to suggestCharts:', error);\n",
              "      }\n",
              "      quickchartButtonEl.classList.remove('colab-df-spinner');\n",
              "      quickchartButtonEl.classList.add('colab-df-quickchart-complete');\n",
              "    }\n",
              "    (() => {\n",
              "      let quickchartButtonEl =\n",
              "        document.querySelector('#df-6b35a54b-c41f-4bc0-a8ad-98b34ff8d6a9 button');\n",
              "      quickchartButtonEl.style.display =\n",
              "        google.colab.kernel.accessAllowed ? 'block' : 'none';\n",
              "    })();\n",
              "  </script>\n",
              "</div>\n",
              "\n",
              "    </div>\n",
              "  </div>\n"
            ],
            "application/vnd.google.colaboratory.intrinsic+json": {
              "type": "dataframe"
            }
          },
          "metadata": {},
          "execution_count": 31
        }
      ]
    },
    {
      "cell_type": "code",
      "source": [
        "# Drop the Neighbourhood column\n",
        "data_without_neighbourhood = data.drop(columns=['Neighbourhood_ANDORINHAS',\n",
        "       'Neighbourhood_ANTÔNIO HONÓRIO', 'Neighbourhood_ARIOVALDO FAVALESSA',\n",
        "       'Neighbourhood_BARRO VERMELHO', 'Neighbourhood_BELA VISTA',\n",
        "       'Neighbourhood_BENTO FERREIRA', 'Neighbourhood_BOA VISTA',\n",
        "       'Neighbourhood_BONFIM', 'Neighbourhood_CARATOÍRA',\n",
        "       'Neighbourhood_CENTRO', 'Neighbourhood_COMDUSA',\n",
        "       'Neighbourhood_CONQUISTA', 'Neighbourhood_CONSOLAÇÃO',\n",
        "       'Neighbourhood_CRUZAMENTO', 'Neighbourhood_DA PENHA',\n",
        "       'Neighbourhood_DE LOURDES', 'Neighbourhood_DO CABRAL',\n",
        "       'Neighbourhood_DO MOSCOSO', 'Neighbourhood_DO QUADRO',\n",
        "       'Neighbourhood_ENSEADA DO SUÁ', 'Neighbourhood_ESTRELINHA',\n",
        "       'Neighbourhood_FONTE GRANDE', 'Neighbourhood_FORTE SÃO JOÃO',\n",
        "       'Neighbourhood_FRADINHOS', 'Neighbourhood_GOIABEIRAS',\n",
        "       'Neighbourhood_GRANDE VITÓRIA', 'Neighbourhood_GURIGICA',\n",
        "       'Neighbourhood_HORTO', 'Neighbourhood_ILHA DAS CAIEIRAS',\n",
        "       'Neighbourhood_ILHA DE SANTA MARIA', 'Neighbourhood_ILHA DO BOI',\n",
        "       'Neighbourhood_ILHA DO FRADE', 'Neighbourhood_ILHA DO PRÍNCIPE',\n",
        "       'Neighbourhood_ILHAS OCEÂNICAS DE TRINDADE', 'Neighbourhood_INHANGUETÁ',\n",
        "       'Neighbourhood_ITARARÉ', 'Neighbourhood_JABOUR',\n",
        "       'Neighbourhood_JARDIM CAMBURI', 'Neighbourhood_JARDIM DA PENHA',\n",
        "       'Neighbourhood_JESUS DE NAZARETH', 'Neighbourhood_JOANA D´ARC',\n",
        "       'Neighbourhood_JUCUTUQUARA', 'Neighbourhood_MARIA ORTIZ',\n",
        "       'Neighbourhood_MARUÍPE', 'Neighbourhood_MATA DA PRAIA',\n",
        "       'Neighbourhood_MONTE BELO', 'Neighbourhood_MORADA DE CAMBURI',\n",
        "       'Neighbourhood_MÁRIO CYPRESTE', 'Neighbourhood_NAZARETH',\n",
        "       'Neighbourhood_NOVA PALESTINA', 'Neighbourhood_PARQUE INDUSTRIAL',\n",
        "       'Neighbourhood_PARQUE MOSCOSO', 'Neighbourhood_PIEDADE',\n",
        "       'Neighbourhood_PONTAL DE CAMBURI', 'Neighbourhood_PRAIA DO CANTO',\n",
        "       'Neighbourhood_PRAIA DO SUÁ', 'Neighbourhood_REDENÇÃO',\n",
        "       'Neighbourhood_REPÚBLICA', 'Neighbourhood_RESISTÊNCIA',\n",
        "       'Neighbourhood_ROMÃO', 'Neighbourhood_SANTA CECÍLIA',\n",
        "       'Neighbourhood_SANTA CLARA', 'Neighbourhood_SANTA HELENA',\n",
        "       'Neighbourhood_SANTA LUÍZA', 'Neighbourhood_SANTA LÚCIA',\n",
        "       'Neighbourhood_SANTA MARTHA', 'Neighbourhood_SANTA TEREZA',\n",
        "       'Neighbourhood_SANTO ANDRÉ', 'Neighbourhood_SANTO ANTÔNIO',\n",
        "       'Neighbourhood_SANTOS DUMONT', 'Neighbourhood_SANTOS REIS',\n",
        "       'Neighbourhood_SEGURANÇA DO LAR', 'Neighbourhood_SOLON BORGES',\n",
        "       'Neighbourhood_SÃO BENEDITO', 'Neighbourhood_SÃO CRISTÓVÃO',\n",
        "       'Neighbourhood_SÃO JOSÉ', 'Neighbourhood_SÃO PEDRO',\n",
        "       'Neighbourhood_TABUAZEIRO', 'Neighbourhood_UNIVERSITÁRIO',\n",
        "       'Neighbourhood_VILA RUBIM'])\n",
        "\n"
      ],
      "metadata": {
        "id": "ETBttj86gWuM"
      },
      "id": "ETBttj86gWuM",
      "execution_count": 32,
      "outputs": []
    },
    {
      "cell_type": "code",
      "source": [
        "\n",
        "# Compute correlation matrix\n",
        "correlation_matrix = data_without_neighbourhood.corr()"
      ],
      "metadata": {
        "id": "-xPcdvlBgbev"
      },
      "id": "-xPcdvlBgbev",
      "execution_count": 33,
      "outputs": []
    },
    {
      "cell_type": "code",
      "source": [
        "# Visualize correlation matrix\n",
        "plt.figure(figsize=(12, 8))\n",
        "sns.heatmap(correlation_matrix, annot=True, fmt=\".2f\", cmap='viridis', vmin=-1, vmax=1)\n",
        "plt.title(\"Correlation Matrix (Excluding Neighbourhood)\", fontsize=16)\n",
        "plt.show()\n"
      ],
      "metadata": {
        "colab": {
          "base_uri": "https://localhost:8080/",
          "height": 893
        },
        "id": "Ej7IiO8vgbbX",
        "outputId": "2865f374-55b7-4996-d436-87b5cf279ab3"
      },
      "id": "Ej7IiO8vgbbX",
      "execution_count": 34,
      "outputs": [
        {
          "output_type": "display_data",
          "data": {
            "text/plain": [
              "<Figure size 1200x800 with 2 Axes>"
            ],
            "image/png": "[encoded data removed]"
          },
          "metadata": {}
        }
      ]
    },
    {
      "cell_type": "code",
      "source": [
        "# Extract relevant insights\n",
        "show_rate_by_day = data.groupby('AppointmentDay_DayOfWeek')['Showed_up'].mean()\n",
        "plt.figure(figsize=(8, 5))\n",
        "sns.lineplot(x=show_rate_by_day.index, y=show_rate_by_day.values, marker='o')\n",
        "plt.title(\"Show-Up Rate by Day of the Week\")\n",
        "plt.xlabel(\"Day of the Week\")\n",
        "plt.ylabel(\"Show-Up Rate\")\n",
        "plt.xticks(range(7), ['Mon', 'Tue', 'Wed', 'Thu', 'Fri', 'Sat', 'Sun'])\n",
        "plt.show()"
      ],
      "metadata": {
        "colab": {
          "base_uri": "https://localhost:8080/",
          "height": 487
        },
        "id": "ztWJk2DkgbY4",
        "outputId": "fc0b06db-375c-45b1-e47a-967ad74ead9d"
      },
      "id": "ztWJk2DkgbY4",
      "execution_count": 35,
      "outputs": [
        {
          "output_type": "display_data",
          "data": {
            "text/plain": [
              "<Figure size 800x500 with 1 Axes>"
            ],
            "image/png": "[encoded data removed]"
          },
          "metadata": {}
        }
      ]
    },
    {
      "cell_type": "code",
      "source": [
        "# Insights from Age and Medical Conditions\n",
        "plt.figure(figsize=(10, 6))\n",
        "sns.boxplot(x='Showed_up', y='Age', data=data, palette=\"Set3\")\n",
        "plt.title(\"Age vs. Show-Up Status\")\n",
        "plt.xlabel(\"Show-Up Status\")\n",
        "plt.ylabel(\"Age\")\n",
        "plt.xticks([0, 1], ['No-show', 'Showed'])\n",
        "plt.show()"
      ],
      "metadata": {
        "colab": {
          "base_uri": "https://localhost:8080/",
          "height": 671
        },
        "id": "US2uHKjigbWH",
        "outputId": "3bbd45b5-3fe7-4438-dbdc-870157204093"
      },
      "id": "US2uHKjigbWH",
      "execution_count": 36,
      "outputs": [
        {
          "output_type": "stream",
          "name": "stderr",
          "text": [
            "<ipython-input-36-a23eac82c119>:3: FutureWarning: \n",
            "\n",
            "Passing `palette` without assigning `hue` is deprecated and will be removed in v0.14.0. Assign the `x` variable to `hue` and set `legend=False` for the same effect.\n",
            "\n",
            "  sns.boxplot(x='Showed_up', y='Age', data=data, palette=\"Set3\")\n"
          ]
        },
        {
          "output_type": "display_data",
          "data": {
            "text/plain": [
              "<Figure size 1000x600 with 1 Axes>"
            ],
            "image/png": "[encoded data removed]"
          },
          "metadata": {}
        }
      ]
    },
    {
      "cell_type": "code",
      "source": [
        "import numpy as np\n",
        "import pandas as pd\n",
        "from sklearn.preprocessing import StandardScaler"
      ],
      "metadata": {
        "id": "TfNHQgPTgbFA"
      },
      "id": "TfNHQgPTgbFA",
      "execution_count": 37,
      "outputs": []
    },
    {
      "cell_type": "code",
      "source": [
        "scaler = StandardScaler()"
      ],
      "metadata": {
        "id": "Lpn87vSpgqVe"
      },
      "id": "Lpn87vSpgqVe",
      "execution_count": 38,
      "outputs": []
    },
    {
      "cell_type": "code",
      "source": [
        "# Initialize the StandardScaler\n",
        "scaler = StandardScaler()\n"
      ],
      "metadata": {
        "id": "Am3_sgzvgqJB"
      },
      "id": "Am3_sgzvgqJB",
      "execution_count": 39,
      "outputs": []
    },
    {
      "cell_type": "code",
      "source": [
        "# Drop the Neighbourhood column\n",
        "data_without_neighbourhood.columns"
      ],
      "metadata": {
        "colab": {
          "base_uri": "https://localhost:8080/"
        },
        "id": "4YREtUg8gqCu",
        "outputId": "038b9ab4-e6d3-4770-d82c-70be64658854"
      },
      "id": "4YREtUg8gqCu",
      "execution_count": 40,
      "outputs": [
        {
          "output_type": "execute_result",
          "data": {
            "text/plain": [
              "Index(['ScheduledDay', 'AppointmentDay', 'Age', 'Scholarship', 'Hypertension',\n",
              "       'Diabetes', 'Alcoholism', 'Handicap', 'SMS_received', 'Showed_up',\n",
              "       'Date.diff', 'Gender_M', 'ScheduledDay_DayOfWeek',\n",
              "       'AppointmentDay_DayOfWeek'],\n",
              "      dtype='object')"
            ]
          },
          "metadata": {},
          "execution_count": 40
        }
      ]
    },
    {
      "cell_type": "code",
      "source": [
        "import pandas as pd\n",
        "from sklearn.model_selection import train_test_split\n",
        "from sklearn.preprocessing import StandardScaler\n",
        "from sklearn.ensemble import RandomForestClassifier  # Example model\n",
        "from sklearn.metrics import accuracy_score\n",
        "\n",
        "# Define the features (X) and target variable (y)\n",
        "X = data[['Age', 'Scholarship', 'Hypertension',\n",
        "          'Diabetes', 'Alcoholism', 'Handicap', 'SMS_received',\n",
        "          'Date.diff', 'Gender_M', 'ScheduledDay_DayOfWeek', 'AppointmentDay_DayOfWeek']]\n",
        "\n",
        "y = data['Showed_up']  # Target variable"
      ],
      "metadata": {
        "id": "PzcHIvJSgp_k"
      },
      "id": "PzcHIvJSgp_k",
      "execution_count": 41,
      "outputs": []
    },
    {
      "cell_type": "code",
      "source": [
        "print(X.dtypes)"
      ],
      "metadata": {
        "colab": {
          "base_uri": "https://localhost:8080/"
        },
        "id": "BP-fOLpCgp8n",
        "outputId": "0f940b05-8d3a-42c9-9477-fe90963550a2"
      },
      "id": "BP-fOLpCgp8n",
      "execution_count": 42,
      "outputs": [
        {
          "output_type": "stream",
          "name": "stdout",
          "text": [
            "Age                         int64\n",
            "Scholarship                  bool\n",
            "Hypertension                 bool\n",
            "Diabetes                     bool\n",
            "Alcoholism                   bool\n",
            "Handicap                     bool\n",
            "SMS_received                 bool\n",
            "Date.diff                   int64\n",
            "Gender_M                     bool\n",
            "ScheduledDay_DayOfWeek      int32\n",
            "AppointmentDay_DayOfWeek    int32\n",
            "dtype: object\n"
          ]
        }
      ]
    },
    {
      "cell_type": "code",
      "source": [
        "# Split the data into training and testing sets (80% training, 20% testing)\n",
        "X_train, X_test, y_train, y_test = train_test_split(X, y, test_size=0.2, random_state=42)\n",
        "\n"
      ],
      "metadata": {
        "id": "f-s74ltQh79Q"
      },
      "id": "f-s74ltQh79Q",
      "execution_count": 43,
      "outputs": []
    },
    {
      "cell_type": "code",
      "source": [
        "print(\"Training data size:\", X_train.shape)\n",
        "print(\"Testing data size:\", X_test.shape)"
      ],
      "metadata": {
        "colab": {
          "base_uri": "https://localhost:8080/"
        },
        "id": "1CWtVt0Rh75w",
        "outputId": "ce7273be-7772-4632-edb4-2b5ed4a253e6"
      },
      "id": "1CWtVt0Rh75w",
      "execution_count": 44,
      "outputs": [
        {
          "output_type": "stream",
          "name": "stdout",
          "text": [
            "Training data size: (85589, 11)\n",
            "Testing data size: (21398, 11)\n"
          ]
        }
      ]
    },
    {
      "cell_type": "code",
      "source": [
        "import pandas as pd\n",
        "import numpy as np\n",
        "from sklearn.model_selection import train_test_split\n",
        "from sklearn.ensemble import RandomForestClassifier\n",
        "from sklearn.metrics import accuracy_score, classification_report\n",
        "import matplotlib.pyplot as plt\n",
        "import seaborn as sns"
      ],
      "metadata": {
        "id": "1gSZD7W1h73O"
      },
      "id": "1gSZD7W1h73O",
      "execution_count": 45,
      "outputs": []
    },
    {
      "cell_type": "code",
      "source": [
        "# Initialize the model\n",
        "model = RandomForestClassifier(random_state=42)"
      ],
      "metadata": {
        "id": "PDdxCc7jh70h"
      },
      "id": "PDdxCc7jh70h",
      "execution_count": 46,
      "outputs": []
    },
    {
      "cell_type": "code",
      "source": [
        "model.fit(X_train, y_train)"
      ],
      "metadata": {
        "colab": {
          "base_uri": "https://localhost:8080/",
          "height": 80
        },
        "id": "BHu0fOR0h7yH",
        "outputId": "b2ea00bf-d874-4210-c81e-a765e0d48885"
      },
      "id": "BHu0fOR0h7yH",
      "execution_count": 47,
      "outputs": [
        {
          "output_type": "execute_result",
          "data": {
            "text/plain": [
              "RandomForestClassifier(random_state=42)"
            ],
            "text/html": [
              "<style>#sk-container-id-1 {\n",
              "  /* Definition of color scheme common for light and dark mode */\n",
              "  --sklearn-color-text: black;\n",
              "  --sklearn-color-line: gray;\n",
              "  /* Definition of color scheme for unfitted estimators */\n",
              "  --sklearn-color-unfitted-level-0: #fff5e6;\n",
              "  --sklearn-color-unfitted-level-1: #f6e4d2;\n",
              "  --sklearn-color-unfitted-level-2: #ffe0b3;\n",
              "  --sklearn-color-unfitted-level-3: chocolate;\n",
              "  /* Definition of color scheme for fitted estimators */\n",
              "  --sklearn-color-fitted-level-0: #f0f8ff;\n",
              "  --sklearn-color-fitted-level-1: #d4ebff;\n",
              "  --sklearn-color-fitted-level-2: #b3dbfd;\n",
              "  --sklearn-color-fitted-level-3: cornflowerblue;\n",
              "\n",
              "  /* Specific color for light theme */\n",
              "  --sklearn-color-text-on-default-background: var(--sg-text-color, var(--theme-code-foreground, var(--jp-content-font-color1, black)));\n",
              "  --sklearn-color-background: var(--sg-background-color, var(--theme-background, var(--jp-layout-color0, white)));\n",
              "  --sklearn-color-border-box: var(--sg-text-color, var(--theme-code-foreground, var(--jp-content-font-color1, black)));\n",
              "  --sklearn-color-icon: #696969;\n",
              "\n",
              "  @media (prefers-color-scheme: dark) {\n",
              "    /* Redefinition of color scheme for dark theme */\n",
              "    --sklearn-color-text-on-default-background: var(--sg-text-color, var(--theme-code-foreground, var(--jp-content-font-color1, white)));\n",
              "    --sklearn-color-background: var(--sg-background-color, var(--theme-background, var(--jp-layout-color0, #111)));\n",
              "    --sklearn-color-border-box: var(--sg-text-color, var(--theme-code-foreground, var(--jp-content-font-color1, white)));\n",
              "    --sklearn-color-icon: #878787;\n",
              "  }\n",
              "}\n",
              "\n",
              "#sk-container-id-1 {\n",
              "  color: var(--sklearn-color-text);\n",
              "}\n",
              "\n",
              "#sk-container-id-1 pre {\n",
              "  padding: 0;\n",
              "}\n",
              "\n",
              "#sk-container-id-1 input.sk-hidden--visually {\n",
              "  border: 0;\n",
              "  clip: rect(1px 1px 1px 1px);\n",
              "  clip: rect(1px, 1px, 1px, 1px);\n",
              "  height: 1px;\n",
              "  margin: -1px;\n",
              "  overflow: hidden;\n",
              "  padding: 0;\n",
              "  position: absolute;\n",
              "  width: 1px;\n",
              "}\n",
              "\n",
              "#sk-container-id-1 div.sk-dashed-wrapped {\n",
              "  border: 1px dashed var(--sklearn-color-line);\n",
              "  margin: 0 0.4em 0.5em 0.4em;\n",
              "  box-sizing: border-box;\n",
              "  padding-bottom: 0.4em;\n",
              "  background-color: var(--sklearn-color-background);\n",
              "}\n",
              "\n",
              "#sk-container-id-1 div.sk-container {\n",
              "  /* jupyter's `normalize.less` sets `[hidden] { display: none; }`\n",
              "     but bootstrap.min.css set `[hidden] { display: none !important; }`\n",
              "     so we also need the `!important` here to be able to override the\n",
              "     default hidden behavior on the sphinx rendered scikit-learn.org.\n",
              "     See: https://github.com/scikit-learn/scikit-learn/issues/21755 */\n",
              "  display: inline-block !important;\n",
              "  position: relative;\n",
              "}\n",
              "\n",
              "#sk-container-id-1 div.sk-text-repr-fallback {\n",
              "  display: none;\n",
              "}\n",
              "\n",
              "div.sk-parallel-item,\n",
              "div.sk-serial,\n",
              "div.sk-item {\n",
              "  /* draw centered vertical line to link estimators */\n",
              "  background-image: linear-gradient(var(--sklearn-color-text-on-default-background), var(--sklearn-color-text-on-default-background));\n",
              "  background-size: 2px 100%;\n",
              "  background-repeat: no-repeat;\n",
              "  background-position: center center;\n",
              "}\n",
              "\n",
              "/* Parallel-specific style estimator block */\n",
              "\n",
              "#sk-container-id-1 div.sk-parallel-item::after {\n",
              "  content: \"\";\n",
              "  width: 100%;\n",
              "  border-bottom: 2px solid var(--sklearn-color-text-on-default-background);\n",
              "  flex-grow: 1;\n",
              "}\n",
              "\n",
              "#sk-container-id-1 div.sk-parallel {\n",
              "  display: flex;\n",
              "  align-items: stretch;\n",
              "  justify-content: center;\n",
              "  background-color: var(--sklearn-color-background);\n",
              "  position: relative;\n",
              "}\n",
              "\n",
              "#sk-container-id-1 div.sk-parallel-item {\n",
              "  display: flex;\n",
              "  flex-direction: column;\n",
              "}\n",
              "\n",
              "#sk-container-id-1 div.sk-parallel-item:first-child::after {\n",
              "  align-self: flex-end;\n",
              "  width: 50%;\n",
              "}\n",
              "\n",
              "#sk-container-id-1 div.sk-parallel-item:last-child::after {\n",
              "  align-self: flex-start;\n",
              "  width: 50%;\n",
              "}\n",
              "\n",
              "#sk-container-id-1 div.sk-parallel-item:only-child::after {\n",
              "  width: 0;\n",
              "}\n",
              "\n",
              "/* Serial-specific style estimator block */\n",
              "\n",
              "#sk-container-id-1 div.sk-serial {\n",
              "  display: flex;\n",
              "  flex-direction: column;\n",
              "  align-items: center;\n",
              "  background-color: var(--sklearn-color-background);\n",
              "  padding-right: 1em;\n",
              "  padding-left: 1em;\n",
              "}\n",
              "\n",
              "\n",
              "/* Toggleable style: style used for estimator/Pipeline/ColumnTransformer box that is\n",
              "clickable and can be expanded/collapsed.\n",
              "- Pipeline and ColumnTransformer use this feature and define the default style\n",
              "- Estimators will overwrite some part of the style using the `sk-estimator` class\n",
              "*/\n",
              "\n",
              "/* Pipeline and ColumnTransformer style (default) */\n",
              "\n",
              "#sk-container-id-1 div.sk-toggleable {\n",
              "  /* Default theme specific background. It is overwritten whether we have a\n",
              "  specific estimator or a Pipeline/ColumnTransformer */\n",
              "  background-color: var(--sklearn-color-background);\n",
              "}\n",
              "\n",
              "/* Toggleable label */\n",
              "#sk-container-id-1 label.sk-toggleable__label {\n",
              "  cursor: pointer;\n",
              "  display: block;\n",
              "  width: 100%;\n",
              "  margin-bottom: 0;\n",
              "  padding: 0.5em;\n",
              "  box-sizing: border-box;\n",
              "  text-align: center;\n",
              "}\n",
              "\n",
              "#sk-container-id-1 label.sk-toggleable__label-arrow:before {\n",
              "  /* Arrow on the left of the label */\n",
              "  content: \"▸\";\n",
              "  float: left;\n",
              "  margin-right: 0.25em;\n",
              "  color: var(--sklearn-color-icon);\n",
              "}\n",
              "\n",
              "#sk-container-id-1 label.sk-toggleable__label-arrow:hover:before {\n",
              "  color: var(--sklearn-color-text);\n",
              "}\n",
              "\n",
              "/* Toggleable content - dropdown */\n",
              "\n",
              "#sk-container-id-1 div.sk-toggleable__content {\n",
              "  max-height: 0;\n",
              "  max-width: 0;\n",
              "  overflow: hidden;\n",
              "  text-align: left;\n",
              "  /* unfitted */\n",
              "  background-color: var(--sklearn-color-unfitted-level-0);\n",
              "}\n",
              "\n",
              "#sk-container-id-1 div.sk-toggleable__content.fitted {\n",
              "  /* fitted */\n",
              "  background-color: var(--sklearn-color-fitted-level-0);\n",
              "}\n",
              "\n",
              "#sk-container-id-1 div.sk-toggleable__content pre {\n",
              "  margin: 0.2em;\n",
              "  border-radius: 0.25em;\n",
              "  color: var(--sklearn-color-text);\n",
              "  /* unfitted */\n",
              "  background-color: var(--sklearn-color-unfitted-level-0);\n",
              "}\n",
              "\n",
              "#sk-container-id-1 div.sk-toggleable__content.fitted pre {\n",
              "  /* unfitted */\n",
              "  background-color: var(--sklearn-color-fitted-level-0);\n",
              "}\n",
              "\n",
              "#sk-container-id-1 input.sk-toggleable__control:checked~div.sk-toggleable__content {\n",
              "  /* Expand drop-down */\n",
              "  max-height: 200px;\n",
              "  max-width: 100%;\n",
              "  overflow: auto;\n",
              "}\n",
              "\n",
              "#sk-container-id-1 input.sk-toggleable__control:checked~label.sk-toggleable__label-arrow:before {\n",
              "  content: \"▾\";\n",
              "}\n",
              "\n",
              "/* Pipeline/ColumnTransformer-specific style */\n",
              "\n",
              "#sk-container-id-1 div.sk-label input.sk-toggleable__control:checked~label.sk-toggleable__label {\n",
              "  color: var(--sklearn-color-text);\n",
              "  background-color: var(--sklearn-color-unfitted-level-2);\n",
              "}\n",
              "\n",
              "#sk-container-id-1 div.sk-label.fitted input.sk-toggleable__control:checked~label.sk-toggleable__label {\n",
              "  background-color: var(--sklearn-color-fitted-level-2);\n",
              "}\n",
              "\n",
              "/* Estimator-specific style */\n",
              "\n",
              "/* Colorize estimator box */\n",
              "#sk-container-id-1 div.sk-estimator input.sk-toggleable__control:checked~label.sk-toggleable__label {\n",
              "  /* unfitted */\n",
              "  background-color: var(--sklearn-color-unfitted-level-2);\n",
              "}\n",
              "\n",
              "#sk-container-id-1 div.sk-estimator.fitted input.sk-toggleable__control:checked~label.sk-toggleable__label {\n",
              "  /* fitted */\n",
              "  background-color: var(--sklearn-color-fitted-level-2);\n",
              "}\n",
              "\n",
              "#sk-container-id-1 div.sk-label label.sk-toggleable__label,\n",
              "#sk-container-id-1 div.sk-label label {\n",
              "  /* The background is the default theme color */\n",
              "  color: var(--sklearn-color-text-on-default-background);\n",
              "}\n",
              "\n",
              "/* On hover, darken the color of the background */\n",
              "#sk-container-id-1 div.sk-label:hover label.sk-toggleable__label {\n",
              "  color: var(--sklearn-color-text);\n",
              "  background-color: var(--sklearn-color-unfitted-level-2);\n",
              "}\n",
              "\n",
              "/* Label box, darken color on hover, fitted */\n",
              "#sk-container-id-1 div.sk-label.fitted:hover label.sk-toggleable__label.fitted {\n",
              "  color: var(--sklearn-color-text);\n",
              "  background-color: var(--sklearn-color-fitted-level-2);\n",
              "}\n",
              "\n",
              "/* Estimator label */\n",
              "\n",
              "#sk-container-id-1 div.sk-label label {\n",
              "  font-family: monospace;\n",
              "  font-weight: bold;\n",
              "  display: inline-block;\n",
              "  line-height: 1.2em;\n",
              "}\n",
              "\n",
              "#sk-container-id-1 div.sk-label-container {\n",
              "  text-align: center;\n",
              "}\n",
              "\n",
              "/* Estimator-specific */\n",
              "#sk-container-id-1 div.sk-estimator {\n",
              "  font-family: monospace;\n",
              "  border: 1px dotted var(--sklearn-color-border-box);\n",
              "  border-radius: 0.25em;\n",
              "  box-sizing: border-box;\n",
              "  margin-bottom: 0.5em;\n",
              "  /* unfitted */\n",
              "  background-color: var(--sklearn-color-unfitted-level-0);\n",
              "}\n",
              "\n",
              "#sk-container-id-1 div.sk-estimator.fitted {\n",
              "  /* fitted */\n",
              "  background-color: var(--sklearn-color-fitted-level-0);\n",
              "}\n",
              "\n",
              "/* on hover */\n",
              "#sk-container-id-1 div.sk-estimator:hover {\n",
              "  /* unfitted */\n",
              "  background-color: var(--sklearn-color-unfitted-level-2);\n",
              "}\n",
              "\n",
              "#sk-container-id-1 div.sk-estimator.fitted:hover {\n",
              "  /* fitted */\n",
              "  background-color: var(--sklearn-color-fitted-level-2);\n",
              "}\n",
              "\n",
              "/* Specification for estimator info (e.g. \"i\" and \"?\") */\n",
              "\n",
              "/* Common style for \"i\" and \"?\" */\n",
              "\n",
              ".sk-estimator-doc-link,\n",
              "a:link.sk-estimator-doc-link,\n",
              "a:visited.sk-estimator-doc-link {\n",
              "  float: right;\n",
              "  font-size: smaller;\n",
              "  line-height: 1em;\n",
              "  font-family: monospace;\n",
              "  background-color: var(--sklearn-color-background);\n",
              "  border-radius: 1em;\n",
              "  height: 1em;\n",
              "  width: 1em;\n",
              "  text-decoration: none !important;\n",
              "  margin-left: 1ex;\n",
              "  /* unfitted */\n",
              "  border: var(--sklearn-color-unfitted-level-1) 1pt solid;\n",
              "  color: var(--sklearn-color-unfitted-level-1);\n",
              "}\n",
              "\n",
              ".sk-estimator-doc-link.fitted,\n",
              "a:link.sk-estimator-doc-link.fitted,\n",
              "a:visited.sk-estimator-doc-link.fitted {\n",
              "  /* fitted */\n",
              "  border: var(--sklearn-color-fitted-level-1) 1pt solid;\n",
              "  color: var(--sklearn-color-fitted-level-1);\n",
              "}\n",
              "\n",
              "/* On hover */\n",
              "div.sk-estimator:hover .sk-estimator-doc-link:hover,\n",
              ".sk-estimator-doc-link:hover,\n",
              "div.sk-label-container:hover .sk-estimator-doc-link:hover,\n",
              ".sk-estimator-doc-link:hover {\n",
              "  /* unfitted */\n",
              "  background-color: var(--sklearn-color-unfitted-level-3);\n",
              "  color: var(--sklearn-color-background);\n",
              "  text-decoration: none;\n",
              "}\n",
              "\n",
              "div.sk-estimator.fitted:hover .sk-estimator-doc-link.fitted:hover,\n",
              ".sk-estimator-doc-link.fitted:hover,\n",
              "div.sk-label-container:hover .sk-estimator-doc-link.fitted:hover,\n",
              ".sk-estimator-doc-link.fitted:hover {\n",
              "  /* fitted */\n",
              "  background-color: var(--sklearn-color-fitted-level-3);\n",
              "  color: var(--sklearn-color-background);\n",
              "  text-decoration: none;\n",
              "}\n",
              "\n",
              "/* Span, style for the box shown on hovering the info icon */\n",
              ".sk-estimator-doc-link span {\n",
              "  display: none;\n",
              "  z-index: 9999;\n",
              "  position: relative;\n",
              "  font-weight: normal;\n",
              "  right: .2ex;\n",
              "  padding: .5ex;\n",
              "  margin: .5ex;\n",
              "  width: min-content;\n",
              "  min-width: 20ex;\n",
              "  max-width: 50ex;\n",
              "  color: var(--sklearn-color-text);\n",
              "  box-shadow: 2pt 2pt 4pt #999;\n",
              "  /* unfitted */\n",
              "  background: var(--sklearn-color-unfitted-level-0);\n",
              "  border: .5pt solid var(--sklearn-color-unfitted-level-3);\n",
              "}\n",
              "\n",
              ".sk-estimator-doc-link.fitted span {\n",
              "  /* fitted */\n",
              "  background: var(--sklearn-color-fitted-level-0);\n",
              "  border: var(--sklearn-color-fitted-level-3);\n",
              "}\n",
              "\n",
              ".sk-estimator-doc-link:hover span {\n",
              "  display: block;\n",
              "}\n",
              "\n",
              "/* \"?\"-specific style due to the `<a>` HTML tag */\n",
              "\n",
              "#sk-container-id-1 a.estimator_doc_link {\n",
              "  float: right;\n",
              "  font-size: 1rem;\n",
              "  line-height: 1em;\n",
              "  font-family: monospace;\n",
              "  background-color: var(--sklearn-color-background);\n",
              "  border-radius: 1rem;\n",
              "  height: 1rem;\n",
              "  width: 1rem;\n",
              "  text-decoration: none;\n",
              "  /* unfitted */\n",
              "  color: var(--sklearn-color-unfitted-level-1);\n",
              "  border: var(--sklearn-color-unfitted-level-1) 1pt solid;\n",
              "}\n",
              "\n",
              "#sk-container-id-1 a.estimator_doc_link.fitted {\n",
              "  /* fitted */\n",
              "  border: var(--sklearn-color-fitted-level-1) 1pt solid;\n",
              "  color: var(--sklearn-color-fitted-level-1);\n",
              "}\n",
              "\n",
              "/* On hover */\n",
              "#sk-container-id-1 a.estimator_doc_link:hover {\n",
              "  /* unfitted */\n",
              "  background-color: var(--sklearn-color-unfitted-level-3);\n",
              "  color: var(--sklearn-color-background);\n",
              "  text-decoration: none;\n",
              "}\n",
              "\n",
              "#sk-container-id-1 a.estimator_doc_link.fitted:hover {\n",
              "  /* fitted */\n",
              "  background-color: var(--sklearn-color-fitted-level-3);\n",
              "}\n",
              "</style><div id=\"sk-container-id-1\" class=\"sk-top-container\"><div class=\"sk-text-repr-fallback\"><pre>RandomForestClassifier(random_state=42)</pre><b>In a Jupyter environment, please rerun this cell to show the HTML representation or trust the notebook. <br />On GitHub, the HTML representation is unable to render, please try loading this page with nbviewer.org.</b></div><div class=\"sk-container\" hidden><div class=\"sk-item\"><div class=\"sk-estimator fitted sk-toggleable\"><input class=\"sk-toggleable__control sk-hidden--visually\" id=\"sk-estimator-id-1\" type=\"checkbox\" checked><label for=\"sk-estimator-id-1\" class=\"sk-toggleable__label fitted sk-toggleable__label-arrow fitted\">&nbsp;&nbsp;RandomForestClassifier<a class=\"sk-estimator-doc-link fitted\" rel=\"noreferrer\" target=\"_blank\" href=\"https://scikit-learn.org/1.5/modules/generated/sklearn.ensemble.RandomForestClassifier.html\">?<span>Documentation for RandomForestClassifier</span></a><span class=\"sk-estimator-doc-link fitted\">i<span>Fitted</span></span></label><div class=\"sk-toggleable__content fitted\"><pre>RandomForestClassifier(random_state=42)</pre></div> </div></div></div></div>"
            ]
          },
          "metadata": {},
          "execution_count": 47
        }
      ]
    },
    {
      "cell_type": "code",
      "source": [
        "# Make predictions\n",
        "y_pred = model.predict(X_test)"
      ],
      "metadata": {
        "id": "ryELq19wh7ve"
      },
      "id": "ryELq19wh7ve",
      "execution_count": 48,
      "outputs": []
    },
    {
      "cell_type": "code",
      "source": [
        "# Evaluate performance\n",
        "accuracy = accuracy_score(y_test, y_pred)\n",
        "print(\"Accuracy:\", accuracy)\n",
        "\n",
        "# Detailed classification report\n",
        "print(\"Classification Report:\\n\", classification_report(y_test, y_pred))"
      ],
      "metadata": {
        "colab": {
          "base_uri": "https://localhost:8080/"
        },
        "id": "t3AgsBUEh7s2",
        "outputId": "47d0eecf-fcfe-48fd-df09-bb3f35633474"
      },
      "id": "t3AgsBUEh7s2",
      "execution_count": 49,
      "outputs": [
        {
          "output_type": "stream",
          "name": "stdout",
          "text": [
            "Accuracy: 0.7613795681839425\n",
            "Classification Report:\n",
            "               precision    recall  f1-score   support\n",
            "\n",
            "       False       0.36      0.23      0.28      4325\n",
            "        True       0.82      0.90      0.86     17073\n",
            "\n",
            "    accuracy                           0.76     21398\n",
            "   macro avg       0.59      0.56      0.57     21398\n",
            "weighted avg       0.73      0.76      0.74     21398\n",
            "\n"
          ]
        }
      ]
    },
    {
      "cell_type": "code",
      "source": [
        "# Plot feature importance\n",
        "importance = model.feature_importances_\n",
        "feature_names = X.columns\n",
        "\n",
        "plt.figure(figsize=(10, 6))\n",
        "sns.barplot(x=importance, y=feature_names)\n",
        "plt.title(\"Feature Importance\")\n",
        "plt.xlabel(\"Importance\")\n",
        "plt.ylabel(\"Features\")\n",
        "plt.show()"
      ],
      "metadata": {
        "colab": {
          "base_uri": "https://localhost:8080/",
          "height": 564
        },
        "id": "YVqOfgqAh7nT",
        "outputId": "86f120a9-13c5-4dfa-fe8a-381c8bea019c"
      },
      "id": "YVqOfgqAh7nT",
      "execution_count": 50,
      "outputs": [
        {
          "output_type": "display_data",
          "data": {
            "text/plain": [
              "<Figure size 1000x600 with 1 Axes>"
            ],
            "image/png": "[encoded data removed]"
          },
          "metadata": {}
        }
      ]
    },
    {
      "cell_type": "code",
      "source": [
        "from sklearn.neighbors import KNeighborsClassifier\n",
        "from sklearn.ensemble import GradientBoostingClassifier\n",
        "from sklearn.metrics import classification_report, accuracy_score,f1_score\n"
      ],
      "metadata": {
        "id": "e_4kYMnXh7c8"
      },
      "id": "e_4kYMnXh7c8",
      "execution_count": 51,
      "outputs": []
    },
    {
      "cell_type": "code",
      "source": [
        "# Initialize KNN\n",
        "knn_model = KNeighborsClassifier(n_neighbors=5)"
      ],
      "metadata": {
        "id": "RD0_XV38h7Z-"
      },
      "id": "RD0_XV38h7Z-",
      "execution_count": 52,
      "outputs": []
    },
    {
      "cell_type": "code",
      "source": [
        "# Train the model\n",
        "knn_model.fit(X_train, y_train)"
      ],
      "metadata": {
        "colab": {
          "base_uri": "https://localhost:8080/",
          "height": 80
        },
        "id": "-6680e44h7XL",
        "outputId": "93819d25-3b11-4f9c-c5a9-992ad2fecf06"
      },
      "id": "-6680e44h7XL",
      "execution_count": 53,
      "outputs": [
        {
          "output_type": "execute_result",
          "data": {
            "text/plain": [
              "KNeighborsClassifier()"
            ],
            "text/html": [
              "<style>#sk-container-id-2 {\n",
              "  /* Definition of color scheme common for light and dark mode */\n",
              "  --sklearn-color-text: black;\n",
              "  --sklearn-color-line: gray;\n",
              "  /* Definition of color scheme for unfitted estimators */\n",
              "  --sklearn-color-unfitted-level-0: #fff5e6;\n",
              "  --sklearn-color-unfitted-level-1: #f6e4d2;\n",
              "  --sklearn-color-unfitted-level-2: #ffe0b3;\n",
              "  --sklearn-color-unfitted-level-3: chocolate;\n",
              "  /* Definition of color scheme for fitted estimators */\n",
              "  --sklearn-color-fitted-level-0: #f0f8ff;\n",
              "  --sklearn-color-fitted-level-1: #d4ebff;\n",
              "  --sklearn-color-fitted-level-2: #b3dbfd;\n",
              "  --sklearn-color-fitted-level-3: cornflowerblue;\n",
              "\n",
              "  /* Specific color for light theme */\n",
              "  --sklearn-color-text-on-default-background: var(--sg-text-color, var(--theme-code-foreground, var(--jp-content-font-color1, black)));\n",
              "  --sklearn-color-background: var(--sg-background-color, var(--theme-background, var(--jp-layout-color0, white)));\n",
              "  --sklearn-color-border-box: var(--sg-text-color, var(--theme-code-foreground, var(--jp-content-font-color1, black)));\n",
              "  --sklearn-color-icon: #696969;\n",
              "\n",
              "  @media (prefers-color-scheme: dark) {\n",
              "    /* Redefinition of color scheme for dark theme */\n",
              "    --sklearn-color-text-on-default-background: var(--sg-text-color, var(--theme-code-foreground, var(--jp-content-font-color1, white)));\n",
              "    --sklearn-color-background: var(--sg-background-color, var(--theme-background, var(--jp-layout-color0, #111)));\n",
              "    --sklearn-color-border-box: var(--sg-text-color, var(--theme-code-foreground, var(--jp-content-font-color1, white)));\n",
              "    --sklearn-color-icon: #878787;\n",
              "  }\n",
              "}\n",
              "\n",
              "#sk-container-id-2 {\n",
              "  color: var(--sklearn-color-text);\n",
              "}\n",
              "\n",
              "#sk-container-id-2 pre {\n",
              "  padding: 0;\n",
              "}\n",
              "\n",
              "#sk-container-id-2 input.sk-hidden--visually {\n",
              "  border: 0;\n",
              "  clip: rect(1px 1px 1px 1px);\n",
              "  clip: rect(1px, 1px, 1px, 1px);\n",
              "  height: 1px;\n",
              "  margin: -1px;\n",
              "  overflow: hidden;\n",
              "  padding: 0;\n",
              "  position: absolute;\n",
              "  width: 1px;\n",
              "}\n",
              "\n",
              "#sk-container-id-2 div.sk-dashed-wrapped {\n",
              "  border: 1px dashed var(--sklearn-color-line);\n",
              "  margin: 0 0.4em 0.5em 0.4em;\n",
              "  box-sizing: border-box;\n",
              "  padding-bottom: 0.4em;\n",
              "  background-color: var(--sklearn-color-background);\n",
              "}\n",
              "\n",
              "#sk-container-id-2 div.sk-container {\n",
              "  /* jupyter's `normalize.less` sets `[hidden] { display: none; }`\n",
              "     but bootstrap.min.css set `[hidden] { display: none !important; }`\n",
              "     so we also need the `!important` here to be able to override the\n",
              "     default hidden behavior on the sphinx rendered scikit-learn.org.\n",
              "     See: https://github.com/scikit-learn/scikit-learn/issues/21755 */\n",
              "  display: inline-block !important;\n",
              "  position: relative;\n",
              "}\n",
              "\n",
              "#sk-container-id-2 div.sk-text-repr-fallback {\n",
              "  display: none;\n",
              "}\n",
              "\n",
              "div.sk-parallel-item,\n",
              "div.sk-serial,\n",
              "div.sk-item {\n",
              "  /* draw centered vertical line to link estimators */\n",
              "  background-image: linear-gradient(var(--sklearn-color-text-on-default-background), var(--sklearn-color-text-on-default-background));\n",
              "  background-size: 2px 100%;\n",
              "  background-repeat: no-repeat;\n",
              "  background-position: center center;\n",
              "}\n",
              "\n",
              "/* Parallel-specific style estimator block */\n",
              "\n",
              "#sk-container-id-2 div.sk-parallel-item::after {\n",
              "  content: \"\";\n",
              "  width: 100%;\n",
              "  border-bottom: 2px solid var(--sklearn-color-text-on-default-background);\n",
              "  flex-grow: 1;\n",
              "}\n",
              "\n",
              "#sk-container-id-2 div.sk-parallel {\n",
              "  display: flex;\n",
              "  align-items: stretch;\n",
              "  justify-content: center;\n",
              "  background-color: var(--sklearn-color-background);\n",
              "  position: relative;\n",
              "}\n",
              "\n",
              "#sk-container-id-2 div.sk-parallel-item {\n",
              "  display: flex;\n",
              "  flex-direction: column;\n",
              "}\n",
              "\n",
              "#sk-container-id-2 div.sk-parallel-item:first-child::after {\n",
              "  align-self: flex-end;\n",
              "  width: 50%;\n",
              "}\n",
              "\n",
              "#sk-container-id-2 div.sk-parallel-item:last-child::after {\n",
              "  align-self: flex-start;\n",
              "  width: 50%;\n",
              "}\n",
              "\n",
              "#sk-container-id-2 div.sk-parallel-item:only-child::after {\n",
              "  width: 0;\n",
              "}\n",
              "\n",
              "/* Serial-specific style estimator block */\n",
              "\n",
              "#sk-container-id-2 div.sk-serial {\n",
              "  display: flex;\n",
              "  flex-direction: column;\n",
              "  align-items: center;\n",
              "  background-color: var(--sklearn-color-background);\n",
              "  padding-right: 1em;\n",
              "  padding-left: 1em;\n",
              "}\n",
              "\n",
              "\n",
              "/* Toggleable style: style used for estimator/Pipeline/ColumnTransformer box that is\n",
              "clickable and can be expanded/collapsed.\n",
              "- Pipeline and ColumnTransformer use this feature and define the default style\n",
              "- Estimators will overwrite some part of the style using the `sk-estimator` class\n",
              "*/\n",
              "\n",
              "/* Pipeline and ColumnTransformer style (default) */\n",
              "\n",
              "#sk-container-id-2 div.sk-toggleable {\n",
              "  /* Default theme specific background. It is overwritten whether we have a\n",
              "  specific estimator or a Pipeline/ColumnTransformer */\n",
              "  background-color: var(--sklearn-color-background);\n",
              "}\n",
              "\n",
              "/* Toggleable label */\n",
              "#sk-container-id-2 label.sk-toggleable__label {\n",
              "  cursor: pointer;\n",
              "  display: block;\n",
              "  width: 100%;\n",
              "  margin-bottom: 0;\n",
              "  padding: 0.5em;\n",
              "  box-sizing: border-box;\n",
              "  text-align: center;\n",
              "}\n",
              "\n",
              "#sk-container-id-2 label.sk-toggleable__label-arrow:before {\n",
              "  /* Arrow on the left of the label */\n",
              "  content: \"▸\";\n",
              "  float: left;\n",
              "  margin-right: 0.25em;\n",
              "  color: var(--sklearn-color-icon);\n",
              "}\n",
              "\n",
              "#sk-container-id-2 label.sk-toggleable__label-arrow:hover:before {\n",
              "  color: var(--sklearn-color-text);\n",
              "}\n",
              "\n",
              "/* Toggleable content - dropdown */\n",
              "\n",
              "#sk-container-id-2 div.sk-toggleable__content {\n",
              "  max-height: 0;\n",
              "  max-width: 0;\n",
              "  overflow: hidden;\n",
              "  text-align: left;\n",
              "  /* unfitted */\n",
              "  background-color: var(--sklearn-color-unfitted-level-0);\n",
              "}\n",
              "\n",
              "#sk-container-id-2 div.sk-toggleable__content.fitted {\n",
              "  /* fitted */\n",
              "  background-color: var(--sklearn-color-fitted-level-0);\n",
              "}\n",
              "\n",
              "#sk-container-id-2 div.sk-toggleable__content pre {\n",
              "  margin: 0.2em;\n",
              "  border-radius: 0.25em;\n",
              "  color: var(--sklearn-color-text);\n",
              "  /* unfitted */\n",
              "  background-color: var(--sklearn-color-unfitted-level-0);\n",
              "}\n",
              "\n",
              "#sk-container-id-2 div.sk-toggleable__content.fitted pre {\n",
              "  /* unfitted */\n",
              "  background-color: var(--sklearn-color-fitted-level-0);\n",
              "}\n",
              "\n",
              "#sk-container-id-2 input.sk-toggleable__control:checked~div.sk-toggleable__content {\n",
              "  /* Expand drop-down */\n",
              "  max-height: 200px;\n",
              "  max-width: 100%;\n",
              "  overflow: auto;\n",
              "}\n",
              "\n",
              "#sk-container-id-2 input.sk-toggleable__control:checked~label.sk-toggleable__label-arrow:before {\n",
              "  content: \"▾\";\n",
              "}\n",
              "\n",
              "/* Pipeline/ColumnTransformer-specific style */\n",
              "\n",
              "#sk-container-id-2 div.sk-label input.sk-toggleable__control:checked~label.sk-toggleable__label {\n",
              "  color: var(--sklearn-color-text);\n",
              "  background-color: var(--sklearn-color-unfitted-level-2);\n",
              "}\n",
              "\n",
              "#sk-container-id-2 div.sk-label.fitted input.sk-toggleable__control:checked~label.sk-toggleable__label {\n",
              "  background-color: var(--sklearn-color-fitted-level-2);\n",
              "}\n",
              "\n",
              "/* Estimator-specific style */\n",
              "\n",
              "/* Colorize estimator box */\n",
              "#sk-container-id-2 div.sk-estimator input.sk-toggleable__control:checked~label.sk-toggleable__label {\n",
              "  /* unfitted */\n",
              "  background-color: var(--sklearn-color-unfitted-level-2);\n",
              "}\n",
              "\n",
              "#sk-container-id-2 div.sk-estimator.fitted input.sk-toggleable__control:checked~label.sk-toggleable__label {\n",
              "  /* fitted */\n",
              "  background-color: var(--sklearn-color-fitted-level-2);\n",
              "}\n",
              "\n",
              "#sk-container-id-2 div.sk-label label.sk-toggleable__label,\n",
              "#sk-container-id-2 div.sk-label label {\n",
              "  /* The background is the default theme color */\n",
              "  color: var(--sklearn-color-text-on-default-background);\n",
              "}\n",
              "\n",
              "/* On hover, darken the color of the background */\n",
              "#sk-container-id-2 div.sk-label:hover label.sk-toggleable__label {\n",
              "  color: var(--sklearn-color-text);\n",
              "  background-color: var(--sklearn-color-unfitted-level-2);\n",
              "}\n",
              "\n",
              "/* Label box, darken color on hover, fitted */\n",
              "#sk-container-id-2 div.sk-label.fitted:hover label.sk-toggleable__label.fitted {\n",
              "  color: var(--sklearn-color-text);\n",
              "  background-color: var(--sklearn-color-fitted-level-2);\n",
              "}\n",
              "\n",
              "/* Estimator label */\n",
              "\n",
              "#sk-container-id-2 div.sk-label label {\n",
              "  font-family: monospace;\n",
              "  font-weight: bold;\n",
              "  display: inline-block;\n",
              "  line-height: 1.2em;\n",
              "}\n",
              "\n",
              "#sk-container-id-2 div.sk-label-container {\n",
              "  text-align: center;\n",
              "}\n",
              "\n",
              "/* Estimator-specific */\n",
              "#sk-container-id-2 div.sk-estimator {\n",
              "  font-family: monospace;\n",
              "  border: 1px dotted var(--sklearn-color-border-box);\n",
              "  border-radius: 0.25em;\n",
              "  box-sizing: border-box;\n",
              "  margin-bottom: 0.5em;\n",
              "  /* unfitted */\n",
              "  background-color: var(--sklearn-color-unfitted-level-0);\n",
              "}\n",
              "\n",
              "#sk-container-id-2 div.sk-estimator.fitted {\n",
              "  /* fitted */\n",
              "  background-color: var(--sklearn-color-fitted-level-0);\n",
              "}\n",
              "\n",
              "/* on hover */\n",
              "#sk-container-id-2 div.sk-estimator:hover {\n",
              "  /* unfitted */\n",
              "  background-color: var(--sklearn-color-unfitted-level-2);\n",
              "}\n",
              "\n",
              "#sk-container-id-2 div.sk-estimator.fitted:hover {\n",
              "  /* fitted */\n",
              "  background-color: var(--sklearn-color-fitted-level-2);\n",
              "}\n",
              "\n",
              "/* Specification for estimator info (e.g. \"i\" and \"?\") */\n",
              "\n",
              "/* Common style for \"i\" and \"?\" */\n",
              "\n",
              ".sk-estimator-doc-link,\n",
              "a:link.sk-estimator-doc-link,\n",
              "a:visited.sk-estimator-doc-link {\n",
              "  float: right;\n",
              "  font-size: smaller;\n",
              "  line-height: 1em;\n",
              "  font-family: monospace;\n",
              "  background-color: var(--sklearn-color-background);\n",
              "  border-radius: 1em;\n",
              "  height: 1em;\n",
              "  width: 1em;\n",
              "  text-decoration: none !important;\n",
              "  margin-left: 1ex;\n",
              "  /* unfitted */\n",
              "  border: var(--sklearn-color-unfitted-level-1) 1pt solid;\n",
              "  color: var(--sklearn-color-unfitted-level-1);\n",
              "}\n",
              "\n",
              ".sk-estimator-doc-link.fitted,\n",
              "a:link.sk-estimator-doc-link.fitted,\n",
              "a:visited.sk-estimator-doc-link.fitted {\n",
              "  /* fitted */\n",
              "  border: var(--sklearn-color-fitted-level-1) 1pt solid;\n",
              "  color: var(--sklearn-color-fitted-level-1);\n",
              "}\n",
              "\n",
              "/* On hover */\n",
              "div.sk-estimator:hover .sk-estimator-doc-link:hover,\n",
              ".sk-estimator-doc-link:hover,\n",
              "div.sk-label-container:hover .sk-estimator-doc-link:hover,\n",
              ".sk-estimator-doc-link:hover {\n",
              "  /* unfitted */\n",
              "  background-color: var(--sklearn-color-unfitted-level-3);\n",
              "  color: var(--sklearn-color-background);\n",
              "  text-decoration: none;\n",
              "}\n",
              "\n",
              "div.sk-estimator.fitted:hover .sk-estimator-doc-link.fitted:hover,\n",
              ".sk-estimator-doc-link.fitted:hover,\n",
              "div.sk-label-container:hover .sk-estimator-doc-link.fitted:hover,\n",
              ".sk-estimator-doc-link.fitted:hover {\n",
              "  /* fitted */\n",
              "  background-color: var(--sklearn-color-fitted-level-3);\n",
              "  color: var(--sklearn-color-background);\n",
              "  text-decoration: none;\n",
              "}\n",
              "\n",
              "/* Span, style for the box shown on hovering the info icon */\n",
              ".sk-estimator-doc-link span {\n",
              "  display: none;\n",
              "  z-index: 9999;\n",
              "  position: relative;\n",
              "  font-weight: normal;\n",
              "  right: .2ex;\n",
              "  padding: .5ex;\n",
              "  margin: .5ex;\n",
              "  width: min-content;\n",
              "  min-width: 20ex;\n",
              "  max-width: 50ex;\n",
              "  color: var(--sklearn-color-text);\n",
              "  box-shadow: 2pt 2pt 4pt #999;\n",
              "  /* unfitted */\n",
              "  background: var(--sklearn-color-unfitted-level-0);\n",
              "  border: .5pt solid var(--sklearn-color-unfitted-level-3);\n",
              "}\n",
              "\n",
              ".sk-estimator-doc-link.fitted span {\n",
              "  /* fitted */\n",
              "  background: var(--sklearn-color-fitted-level-0);\n",
              "  border: var(--sklearn-color-fitted-level-3);\n",
              "}\n",
              "\n",
              ".sk-estimator-doc-link:hover span {\n",
              "  display: block;\n",
              "}\n",
              "\n",
              "/* \"?\"-specific style due to the `<a>` HTML tag */\n",
              "\n",
              "#sk-container-id-2 a.estimator_doc_link {\n",
              "  float: right;\n",
              "  font-size: 1rem;\n",
              "  line-height: 1em;\n",
              "  font-family: monospace;\n",
              "  background-color: var(--sklearn-color-background);\n",
              "  border-radius: 1rem;\n",
              "  height: 1rem;\n",
              "  width: 1rem;\n",
              "  text-decoration: none;\n",
              "  /* unfitted */\n",
              "  color: var(--sklearn-color-unfitted-level-1);\n",
              "  border: var(--sklearn-color-unfitted-level-1) 1pt solid;\n",
              "}\n",
              "\n",
              "#sk-container-id-2 a.estimator_doc_link.fitted {\n",
              "  /* fitted */\n",
              "  border: var(--sklearn-color-fitted-level-1) 1pt solid;\n",
              "  color: var(--sklearn-color-fitted-level-1);\n",
              "}\n",
              "\n",
              "/* On hover */\n",
              "#sk-container-id-2 a.estimator_doc_link:hover {\n",
              "  /* unfitted */\n",
              "  background-color: var(--sklearn-color-unfitted-level-3);\n",
              "  color: var(--sklearn-color-background);\n",
              "  text-decoration: none;\n",
              "}\n",
              "\n",
              "#sk-container-id-2 a.estimator_doc_link.fitted:hover {\n",
              "  /* fitted */\n",
              "  background-color: var(--sklearn-color-fitted-level-3);\n",
              "}\n",
              "</style><div id=\"sk-container-id-2\" class=\"sk-top-container\"><div class=\"sk-text-repr-fallback\"><pre>KNeighborsClassifier()</pre><b>In a Jupyter environment, please rerun this cell to show the HTML representation or trust the notebook. <br />On GitHub, the HTML representation is unable to render, please try loading this page with nbviewer.org.</b></div><div class=\"sk-container\" hidden><div class=\"sk-item\"><div class=\"sk-estimator fitted sk-toggleable\"><input class=\"sk-toggleable__control sk-hidden--visually\" id=\"sk-estimator-id-2\" type=\"checkbox\" checked><label for=\"sk-estimator-id-2\" class=\"sk-toggleable__label fitted sk-toggleable__label-arrow fitted\">&nbsp;&nbsp;KNeighborsClassifier<a class=\"sk-estimator-doc-link fitted\" rel=\"noreferrer\" target=\"_blank\" href=\"https://scikit-learn.org/1.5/modules/generated/sklearn.neighbors.KNeighborsClassifier.html\">?<span>Documentation for KNeighborsClassifier</span></a><span class=\"sk-estimator-doc-link fitted\">i<span>Fitted</span></span></label><div class=\"sk-toggleable__content fitted\"><pre>KNeighborsClassifier()</pre></div> </div></div></div></div>"
            ]
          },
          "metadata": {},
          "execution_count": 53
        }
      ]
    },
    {
      "cell_type": "code",
      "source": [
        "# Predict\n",
        "y_pred_knn = knn_model.predict(X_test)"
      ],
      "metadata": {
        "id": "HT2Y9aRxiwMG"
      },
      "id": "HT2Y9aRxiwMG",
      "execution_count": 54,
      "outputs": []
    },
    {
      "cell_type": "code",
      "source": [
        "# Evaluate\n",
        "print(\"K-Nearest Neighbors\")\n",
        "print(\"Accuracy:\", accuracy_score(y_test, y_pred_knn))\n",
        "print(\"Classification Report:\\n\", classification_report(y_test, y_pred_knn))\n"
      ],
      "metadata": {
        "colab": {
          "base_uri": "https://localhost:8080/"
        },
        "id": "21rxUZJHihf1",
        "outputId": "625c658c-eefd-491b-9e4b-882c0d01d26d"
      },
      "id": "21rxUZJHihf1",
      "execution_count": 55,
      "outputs": [
        {
          "output_type": "stream",
          "name": "stdout",
          "text": [
            "K-Nearest Neighbors\n",
            "Accuracy: 0.7656790354238714\n",
            "Classification Report:\n",
            "               precision    recall  f1-score   support\n",
            "\n",
            "       False       0.35      0.18      0.24      4325\n",
            "        True       0.82      0.91      0.86     17073\n",
            "\n",
            "    accuracy                           0.77     21398\n",
            "   macro avg       0.58      0.55      0.55     21398\n",
            "weighted avg       0.72      0.77      0.74     21398\n",
            "\n"
          ]
        }
      ]
    },
    {
      "cell_type": "code",
      "source": [
        "# Initialize Gradient Boosting\n",
        "gb_model = GradientBoostingClassifier(random_state=42)\n",
        "\n",
        "# Train the model\n",
        "gb_model.fit(X_train, y_train)\n",
        "\n",
        "# Predict\n",
        "y_pred_gb = gb_model.predict(X_test)\n",
        "\n",
        "# Evaluate\n",
        "print(\"Gradient Boosting\")\n",
        "print(\"Accuracy:\", accuracy_score(y_test, y_pred_gb))\n",
        "print(\"Classification Report:\\n\", classification_report(y_test, y_pred_gb))\n"
      ],
      "metadata": {
        "colab": {
          "base_uri": "https://localhost:8080/"
        },
        "id": "MpKMpV21ihcO",
        "outputId": "dbc597c5-dd5b-4d04-fd2f-f77feab35ed6"
      },
      "id": "MpKMpV21ihcO",
      "execution_count": 56,
      "outputs": [
        {
          "output_type": "stream",
          "name": "stdout",
          "text": [
            "Gradient Boosting\n",
            "Accuracy: 0.7980652397420319\n",
            "Classification Report:\n",
            "               precision    recall  f1-score   support\n",
            "\n",
            "       False       0.58      0.00      0.01      4325\n",
            "        True       0.80      1.00      0.89     17073\n",
            "\n",
            "    accuracy                           0.80     21398\n",
            "   macro avg       0.69      0.50      0.45     21398\n",
            "weighted avg       0.75      0.80      0.71     21398\n",
            "\n"
          ]
        }
      ]
    },
    {
      "cell_type": "code",
      "source": [
        "# Collect results into a dictionary\n",
        "results = {\n",
        "    \"Model\": [\"RandomForestClassifier\",\"KNN\", \"Gradient Boosting\"],\n",
        "    \"Accuracy\": [\n",
        "        accuracy_score(y_test, y_pred_knn),\n",
        "        accuracy_score(y_test, y_pred_gb),\n",
        "        accuracy_score(y_test, y_pred)\n",
        "\n",
        "\n",
        "    ]\n",
        "}\n",
        "\n",
        "# Convert to a DataFrame\n",
        "results_df = pd.DataFrame(results)\n",
        "\n",
        "# Display results\n",
        "print(results_df)"
      ],
      "metadata": {
        "colab": {
          "base_uri": "https://localhost:8080/"
        },
        "id": "Nkwm5pJrihZe",
        "outputId": "a59a38e5-4adb-40ab-ee44-ed910a9baa20"
      },
      "id": "Nkwm5pJrihZe",
      "execution_count": 57,
      "outputs": [
        {
          "output_type": "stream",
          "name": "stdout",
          "text": [
            "                    Model  Accuracy\n",
            "0  RandomForestClassifier  0.765679\n",
            "1                     KNN  0.798065\n",
            "2       Gradient Boosting  0.761380\n"
          ]
        }
      ]
    },
    {
      "cell_type": "code",
      "source": [
        "from sklearn.naive_bayes import BernoulliNB\n",
        "\n",
        "bnb_model = BernoulliNB()\n",
        "bnb_model.fit(X_train, y_train)\n",
        "y_pred_bnb = bnb_model.predict(X_test)\n",
        "\n",
        "print(\"Accuracy (Bernoulli Naive Bayes):\", accuracy_score(y_test, y_pred_bnb))\n",
        "print(\"Classification Report (Bernoulli Naive Bayes):\\n\", classification_report(y_test, y_pred_bnb))"
      ],
      "metadata": {
        "colab": {
          "base_uri": "https://localhost:8080/"
        },
        "id": "37SnplgIihW-",
        "outputId": "1580edcf-1549-4cff-834e-0fb504db9f2b"
      },
      "id": "37SnplgIihW-",
      "execution_count": 58,
      "outputs": [
        {
          "output_type": "stream",
          "name": "stdout",
          "text": [
            "Accuracy (Bernoulli Naive Bayes): 0.7978783063837742\n",
            "Classification Report (Bernoulli Naive Bayes):\n",
            "               precision    recall  f1-score   support\n",
            "\n",
            "       False       0.00      0.00      0.00      4325\n",
            "        True       0.80      1.00      0.89     17073\n",
            "\n",
            "    accuracy                           0.80     21398\n",
            "   macro avg       0.40      0.50      0.44     21398\n",
            "weighted avg       0.64      0.80      0.71     21398\n",
            "\n"
          ]
        },
        {
          "output_type": "stream",
          "name": "stderr",
          "text": [
            "/usr/local/lib/python3.10/dist-packages/sklearn/metrics/_classification.py:1531: UndefinedMetricWarning: Precision is ill-defined and being set to 0.0 in labels with no predicted samples. Use `zero_division` parameter to control this behavior.\n",
            "  _warn_prf(average, modifier, f\"{metric.capitalize()} is\", len(result))\n",
            "/usr/local/lib/python3.10/dist-packages/sklearn/metrics/_classification.py:1531: UndefinedMetricWarning: Precision is ill-defined and being set to 0.0 in labels with no predicted samples. Use `zero_division` parameter to control this behavior.\n",
            "  _warn_prf(average, modifier, f\"{metric.capitalize()} is\", len(result))\n",
            "/usr/local/lib/python3.10/dist-packages/sklearn/metrics/_classification.py:1531: UndefinedMetricWarning: Precision is ill-defined and being set to 0.0 in labels with no predicted samples. Use `zero_division` parameter to control this behavior.\n",
            "  _warn_prf(average, modifier, f\"{metric.capitalize()} is\", len(result))\n"
          ]
        }
      ]
    },
    {
      "cell_type": "code",
      "source": [
        "from sklearn.naive_bayes import BernoulliNB\n",
        "\n",
        "bnb_model = BernoulliNB()\n",
        "bnb_model.fit(X_train, y_train)\n",
        "y_pred_bnb = bnb_model.predict(X_test)\n",
        "\n",
        "print(\"Accuracy (Bernoulli Naive Bayes):\", accuracy_score(y_test, y_pred_bnb))\n",
        "print(\"Classification Report (Bernoulli Naive Bayes):\\n\", classification_report(y_test, y_pred_bnb))"
      ],
      "metadata": {
        "colab": {
          "base_uri": "https://localhost:8080/"
        },
        "id": "32ryXIoIihUb",
        "outputId": "0cb3bd01-a493-40e1-9798-5eef0d0c6ba6"
      },
      "id": "32ryXIoIihUb",
      "execution_count": 59,
      "outputs": [
        {
          "output_type": "stream",
          "name": "stdout",
          "text": [
            "Accuracy (Bernoulli Naive Bayes): 0.7978783063837742\n",
            "Classification Report (Bernoulli Naive Bayes):\n",
            "               precision    recall  f1-score   support\n",
            "\n",
            "       False       0.00      0.00      0.00      4325\n",
            "        True       0.80      1.00      0.89     17073\n",
            "\n",
            "    accuracy                           0.80     21398\n",
            "   macro avg       0.40      0.50      0.44     21398\n",
            "weighted avg       0.64      0.80      0.71     21398\n",
            "\n"
          ]
        },
        {
          "output_type": "stream",
          "name": "stderr",
          "text": [
            "/usr/local/lib/python3.10/dist-packages/sklearn/metrics/_classification.py:1531: UndefinedMetricWarning: Precision is ill-defined and being set to 0.0 in labels with no predicted samples. Use `zero_division` parameter to control this behavior.\n",
            "  _warn_prf(average, modifier, f\"{metric.capitalize()} is\", len(result))\n",
            "/usr/local/lib/python3.10/dist-packages/sklearn/metrics/_classification.py:1531: UndefinedMetricWarning: Precision is ill-defined and being set to 0.0 in labels with no predicted samples. Use `zero_division` parameter to control this behavior.\n",
            "  _warn_prf(average, modifier, f\"{metric.capitalize()} is\", len(result))\n",
            "/usr/local/lib/python3.10/dist-packages/sklearn/metrics/_classification.py:1531: UndefinedMetricWarning: Precision is ill-defined and being set to 0.0 in labels with no predicted samples. Use `zero_division` parameter to control this behavior.\n",
            "  _warn_prf(average, modifier, f\"{metric.capitalize()} is\", len(result))\n"
          ]
        }
      ]
    },
    {
      "cell_type": "code",
      "source": [
        "# Collect results into a dictionary\n",
        "results = {\n",
        "    \"Model\": [\"RandomForestClassifier\",\"KNN\", \"Gradient Boosting\", \"BernoulliNB\"],\n",
        "    \"Accuracy\": [\n",
        "        accuracy_score(y_test, y_pred_knn),\n",
        "        accuracy_score(y_test, y_pred_gb),\n",
        "        accuracy_score(y_test, y_pred),\n",
        "        accuracy_score(y_test, y_pred_bnb)\n",
        "\n",
        "\n",
        "    ]\n",
        "}\n"
      ],
      "metadata": {
        "id": "_ewXD17-ihR7"
      },
      "id": "_ewXD17-ihR7",
      "execution_count": 60,
      "outputs": []
    },
    {
      "cell_type": "code",
      "source": [
        "\n",
        "# Convert to a DataFrame\n",
        "results_df = pd.DataFrame(results)\n",
        "\n",
        "# Display results\n",
        "print(results_df)\n"
      ],
      "metadata": {
        "colab": {
          "base_uri": "https://localhost:8080/"
        },
        "id": "W4Y2GsvKihO8",
        "outputId": "9dbd3b5e-2fc3-456b-9560-9bf58e3364b6"
      },
      "id": "W4Y2GsvKihO8",
      "execution_count": 61,
      "outputs": [
        {
          "output_type": "stream",
          "name": "stdout",
          "text": [
            "                    Model  Accuracy\n",
            "0  RandomForestClassifier  0.765679\n",
            "1                     KNN  0.798065\n",
            "2       Gradient Boosting  0.761380\n",
            "3             BernoulliNB  0.797878\n"
          ]
        }
      ]
    },
    {
      "cell_type": "code",
      "source": [
        "#f1 score\n",
        "f1=f1_score(y_pred_knn,y_test)\n",
        "print(f1)"
      ],
      "metadata": {
        "colab": {
          "base_uri": "https://localhost:8080/"
        },
        "id": "pyO0xUiUihKK",
        "outputId": "888a72ed-2894-405f-9bea-fc640d1fa1c6"
      },
      "id": "pyO0xUiUihKK",
      "execution_count": 62,
      "outputs": [
        {
          "output_type": "stream",
          "name": "stdout",
          "text": [
            "0.8614917127071823\n"
          ]
        }
      ]
    },
    {
      "cell_type": "code",
      "source": [
        "import joblib\n",
        "\n",
        "joblib.dump(knn_model, 'knn_model.pkl')\n"
      ],
      "metadata": {
        "colab": {
          "base_uri": "https://localhost:8080/"
        },
        "id": "mZXZy5ZQihHn",
        "outputId": "941826a0-d8c3-4b3b-eb89-7966a82d81fc"
      },
      "id": "mZXZy5ZQihHn",
      "execution_count": 65,
      "outputs": [
        {
          "output_type": "execute_result",
          "data": {
            "text/plain": [
              "['knn_model.pkl']"
            ]
          },
          "metadata": {},
          "execution_count": 65
        }
      ]
    },
    {
      "cell_type": "code",
      "source": [
        "joblib.dump(gb_model, 'gb_model.pkl')"
      ],
      "metadata": {
        "colab": {
          "base_uri": "https://localhost:8080/"
        },
        "id": "GwNLLVLPihFZ",
        "outputId": "3678041e-ba59-4f6d-ee53-7ace5c917587"
      },
      "id": "GwNLLVLPihFZ",
      "execution_count": 66,
      "outputs": [
        {
          "output_type": "execute_result",
          "data": {
            "text/plain": [
              "['gb_model.pkl']"
            ]
          },
          "metadata": {},
          "execution_count": 66
        }
      ]
    },
    {
      "cell_type": "code",
      "source": [
        "from os import pipe\n",
        "pipe  = joblib.load('knn_model.pkl')"
      ],
      "metadata": {
        "id": "2QGRkyfaihC9"
      },
      "id": "2QGRkyfaihC9",
      "execution_count": 67,
      "outputs": []
    },
    {
      "cell_type": "code",
      "source": [
        "pip freeze > requirements.txt"
      ],
      "metadata": {
        "id": "Ia_AX6ogihAc"
      },
      "id": "Ia_AX6ogihAc",
      "execution_count": 68,
      "outputs": []
    },
    {
      "cell_type": "code",
      "source": [
        "#save the file\n",
        "filename='knn_model.pkl'\n",
        "joblib.dump(knn_model,filename)"
      ],
      "metadata": {
        "colab": {
          "base_uri": "https://localhost:8080/"
        },
        "id": "B8EV9rEPig-T",
        "outputId": "e22e61fa-c790-414a-8f05-bf0039de9e79"
      },
      "id": "B8EV9rEPig-T",
      "execution_count": 69,
      "outputs": [
        {
          "output_type": "execute_result",
          "data": {
            "text/plain": [
              "['knn_model.pkl']"
            ]
          },
          "metadata": {},
          "execution_count": 69
        }
      ]
    },
    {
      "cell_type": "code",
      "source": [],
      "metadata": {
        "id": "qaaK1NIZig76"
      },
      "id": "qaaK1NIZig76",
      "execution_count": 62,
      "outputs": []
    },
    {
      "cell_type": "code",
      "source": [],
      "metadata": {
        "id": "mpPe4r3wig51"
      },
      "id": "mpPe4r3wig51",
      "execution_count": 62,
      "outputs": []
    },
    {
      "cell_type": "code",
      "source": [],
      "metadata": {
        "id": "q_b3GZI-ig3S"
      },
      "id": "q_b3GZI-ig3S",
      "execution_count": 62,
      "outputs": []
    },
    {
      "cell_type": "code",
      "source": [],
      "metadata": {
        "id": "WWd257-pig0-"
      },
      "id": "WWd257-pig0-",
      "execution_count": 62,
      "outputs": []
    },
    {
      "cell_type": "code",
      "source": [],
      "metadata": {
        "id": "9hUIMrEeigyz"
      },
      "id": "9hUIMrEeigyz",
      "execution_count": 62,
      "outputs": []
    },
    {
      "cell_type": "code",
      "source": [],
      "metadata": {
        "id": "D4_kW12kigwQ"
      },
      "id": "D4_kW12kigwQ",
      "execution_count": 62,
      "outputs": []
    },
    {
      "cell_type": "code",
      "source": [],
      "metadata": {
        "id": "L2Yi29Hzigt3"
      },
      "id": "L2Yi29Hzigt3",
      "execution_count": 62,
      "outputs": []
    }
  ],
  "metadata": {
    "kernelspec": {
      "display_name": "Python 3 (ipykernel)",
      "language": "python",
      "name": "python3"
    },
    "language_info": {
      "codemirror_mode": {
        "name": "ipython",
        "version": 3
      },
      "file_extension": ".py",
      "mimetype": "text/x-python",
      "name": "python",
      "nbconvert_exporter": "python",
      "pygments_lexer": "ipython3",
      "version": "3.9.13"
    },
    "colab": {
      "provenance": []
    }
  },
  "nbformat": 4,
  "nbformat_minor": 5
}